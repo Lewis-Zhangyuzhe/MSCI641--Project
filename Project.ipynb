{
 "cells": [
  {
   "cell_type": "markdown",
   "metadata": {},
   "source": [
    "## Run BERT"
   ]
  },
  {
   "cell_type": "markdown",
   "metadata": {},
   "source": [
    "Please check the colab notebook [BERT](https://colab.research.google.com/drive/1Ag9dsRPP5T7X1InQmOOFeUJzhBLQX2R9). The hyperparameter tunning is conducted completely on colab TPU."
   ]
  },
  {
   "cell_type": "markdown",
   "metadata": {},
   "source": [
    "## Generate plot for analysis."
   ]
  },
  {
   "cell_type": "code",
   "execution_count": 43,
   "metadata": {},
   "outputs": [],
   "source": [
    "import sys\n",
    "import os\n",
    "\n",
    "fnc = os.path.join(os.path.abspath(\".\"), \"fnc-1-baseline\")\n",
    "sys.path.append(fnc)\n",
    "\n",
    "from utils.dataset import DataSet\n",
    "from utils.generate_test_splits import kfold_split, get_stances_for_folds\n",
    "from utils.score import report_score, LABELS, score_submission\n",
    "from sklearn.model_selection import train_test_split\n",
    "from sklearn.metrics import f1_score, accuracy_score\n",
    "import re\n",
    "import numpy as np\n",
    "import pandas as pd\n",
    "\n",
    "import matplotlib.pyplot as plt\n",
    "import numpy as np\n",
    "from matplotlib.pyplot import figure"
   ]
  },
  {
   "cell_type": "markdown",
   "metadata": {},
   "source": [
    "#### Dataset plot"
   ]
  },
  {
   "cell_type": "code",
   "execution_count": 27,
   "metadata": {},
   "outputs": [
    {
     "name": "stdout",
     "output_type": "stream",
     "text": [
      "Reading dataset\n",
      "Total stances: 49972\n",
      "Total bodies: 1683\n"
     ]
    },
    {
     "data": {
      "text/html": [
       "<div>\n",
       "<style scoped>\n",
       "    .dataframe tbody tr th:only-of-type {\n",
       "        vertical-align: middle;\n",
       "    }\n",
       "\n",
       "    .dataframe tbody tr th {\n",
       "        vertical-align: top;\n",
       "    }\n",
       "\n",
       "    .dataframe thead th {\n",
       "        text-align: right;\n",
       "    }\n",
       "</style>\n",
       "<table border=\"1\" class=\"dataframe\">\n",
       "  <thead>\n",
       "    <tr style=\"text-align: right;\">\n",
       "      <th></th>\n",
       "      <th>Headline</th>\n",
       "      <th>Body ID</th>\n",
       "    </tr>\n",
       "    <tr>\n",
       "      <th>Stance</th>\n",
       "      <th></th>\n",
       "      <th></th>\n",
       "    </tr>\n",
       "  </thead>\n",
       "  <tbody>\n",
       "    <tr>\n",
       "      <th>agree</th>\n",
       "      <td>3678</td>\n",
       "      <td>3678</td>\n",
       "    </tr>\n",
       "    <tr>\n",
       "      <th>disagree</th>\n",
       "      <td>840</td>\n",
       "      <td>840</td>\n",
       "    </tr>\n",
       "    <tr>\n",
       "      <th>discuss</th>\n",
       "      <td>8909</td>\n",
       "      <td>8909</td>\n",
       "    </tr>\n",
       "    <tr>\n",
       "      <th>unrelated</th>\n",
       "      <td>36545</td>\n",
       "      <td>36545</td>\n",
       "    </tr>\n",
       "  </tbody>\n",
       "</table>\n",
       "</div>"
      ],
      "text/plain": [
       "           Headline  Body ID\n",
       "Stance                      \n",
       "agree          3678     3678\n",
       "disagree        840      840\n",
       "discuss        8909     8909\n",
       "unrelated     36545    36545"
      ]
     },
     "execution_count": 27,
     "metadata": {},
     "output_type": "execute_result"
    }
   ],
   "source": [
    "training = DataSet(path=os.path.join(fnc, \"fnc-1\"))\n",
    "training_df = pd.DataFrame(data={\"Headline\": [s['Headline'] for s in training.stances], \"Body ID\": [s['Body ID'] for s in training.stances], \"Stance\": [s['Stance'] for s in training.stances]})\n",
    "train_sts = training_df.groupby([training_df['Stance']]).count()\n",
    "train_sts"
   ]
  },
  {
   "cell_type": "markdown",
   "metadata": {},
   "source": [
    "#### F1 and FNC Score"
   ]
  },
  {
   "cell_type": "code",
   "execution_count": 28,
   "metadata": {},
   "outputs": [
    {
     "name": "stdout",
     "output_type": "stream",
     "text": [
      "Reading dataset\n",
      "Total stances: 25413\n",
      "Total bodies: 904\n"
     ]
    }
   ],
   "source": [
    "competition = DataSet(\"competition_test\", path=os.path.join(fnc, \"fnc-1\"))\n",
    "actual = [stance['Stance'] for stance in competition.stances]\n",
    "bilstm_att_cond = pd.read_csv(\"./fnc/result/bidirectional_LSTM_attention_conditional_encoding_submission.csv\")\n",
    "bilstm_att_cond_list = list(bilstm_att_cond.iloc[:,-1])\n",
    "\n",
    "bilstm_att = pd.read_csv(\"./fnc/result/bidirectional_LSTM_attention_submission.csv\")\n",
    "bilstm_att_list = list(bilstm_att.iloc[:,-1])\n",
    "\n",
    "bilstm = pd.read_csv(\"./fnc/result/bidirectional_LSTM_submission.csv\")\n",
    "bilstm_list = list(bilstm.iloc[:,-1])\n",
    "\n",
    "grad = pd.read_csv(\"./fnc/result/grad_submission.csv\")\n",
    "grad_list = list(grad.iloc[:,-1])\n",
    "\n",
    "gra_bert_pair = pd.read_csv(\"./fnc/result/gra_bert_pair_submission.csv\")\n",
    "gra_bert_pair_list = list(gra_bert_pair.iloc[:,-1])\n",
    "\n",
    "gra_bert_only = pd.read_csv(\"./fnc/result/gra_bert_pair_only_submission.csv\")\n",
    "gra_bert_only_list = list(gra_bert_only.iloc[:,-1])\n",
    "\n",
    "bert128 = pd.read_csv(\"./fnc/result/bert_128_submission.csv\")\n",
    "bert128_list = list(bert128.iloc[:,-1])\n",
    "\n",
    "bert256 = pd.read_csv(\"./fnc/result/bert_256_submission.csv\")\n",
    "bert256_list = list(bert256.iloc[:,-1])\n",
    "\n",
    "bert512 = pd.read_csv(\"./fnc/result/bert_512_submission.csv\")\n",
    "bert512_list = list(bert512.iloc[:,-1])"
   ]
  },
  {
   "cell_type": "code",
   "execution_count": 49,
   "metadata": {},
   "outputs": [
    {
     "name": "stdout",
     "output_type": "stream",
     "text": [
      "0.8804548852949278\n",
      "0.8830126313304214\n",
      "0.9243694172274033\n",
      "10247.5\n",
      "11651.25\n"
     ]
    }
   ],
   "source": [
    "print(accuracy_score(actual, gra_bert_only_list))\n",
    "print(accuracy_score(actual, gra_bert_pair_list))\n",
    "print(accuracy_score(actual, bert512_list))\n",
    "print(bert512_score)\n",
    "print(best_score)"
   ]
  },
  {
   "cell_type": "code",
   "execution_count": 36,
   "metadata": {},
   "outputs": [],
   "source": [
    "bilstm_att_cond_f1 = f1_score(actual, bilstm_att_cond_list, labels=LABELS, average=None)\n",
    "bilstm_att_f1 = f1_score(actual, bilstm_att_list, labels=LABELS, average=None)\n",
    "bilstm_f1 = f1_score(actual, bilstm_list, labels=LABELS, average=None)\n",
    "grad_f1 = f1_score(actual, grad_list, labels=LABELS, average=None)\n",
    "gra_bert_pair_f1 = f1_score(actual, gra_bert_pair_list, labels=LABELS, average=None)\n",
    "gra_bert_only_f1 = f1_score(actual, gra_bert_only_list, labels=LABELS, average=None)\n",
    "bert128_f1 = f1_score(actual, bert128_list, labels=LABELS, average=None)\n",
    "bert256_f1 = f1_score(actual, bert256_list, labels=LABELS, average=None)\n",
    "bert512_f1 = f1_score(actual, bert512_list, labels=LABELS, average=None)"
   ]
  },
  {
   "cell_type": "code",
   "execution_count": 37,
   "metadata": {},
   "outputs": [],
   "source": [
    "bilstm_att_cond_score, _ = score_submission(actual, bilstm_att_cond_list)\n",
    "bilstm_att_score, _ = score_submission(actual, bilstm_att_list)\n",
    "bilstm_score, _ = score_submission(actual, bilstm_list)\n",
    "grad_score, _ = score_submission(actual, grad_list)\n",
    "gra_bert_pair_score, _ = score_submission(actual, gra_bert_pair_list)\n",
    "gra_bert_only_score, _ = score_submission(actual, gra_bert_only_list)\n",
    "bert128_score, _ = score_submission(actual, bert128_list)\n",
    "bert256_score, _ = score_submission(actual, bert256_list)\n",
    "bert512_score, _ = score_submission(actual, bert512_list)\n",
    "best_score, _ = score_submission(actual,actual)"
   ]
  },
  {
   "cell_type": "markdown",
   "metadata": {},
   "source": [
    "#### Score plot."
   ]
  },
  {
   "cell_type": "code",
   "execution_count": 38,
   "metadata": {},
   "outputs": [
    {
     "data": {
      "text/plain": [
       "<Figure size 40960x30720 with 0 Axes>"
      ]
     },
     "metadata": {},
     "output_type": "display_data"
    },
    {
     "data": {
      "image/png": "[encoded data removed]",
      "text/plain": [
       "<Figure size 432x288 with 1 Axes>"
      ]
     },
     "metadata": {
      "needs_background": "light"
     },
     "output_type": "display_data"
    }
   ],
   "source": [
    "figure(num=None, figsize=(64, 48), dpi=640, facecolor='w', edgecolor='k')\n",
    "\n",
    "fig, ax = plt.subplots()\n",
    "names = ['BiLSTM', 'BiLSTM Attention', 'Conditional Encoding LSTM Attention', 'GradientBooster', 'GB(BERT Token Only)', 'GB(+BERT Token)', 'BERT(128)', 'BERT(256)', 'BERT(512)', 'Truth']\n",
    "colors = [\"lightgray\", \"tomato\", \"sandybrown\", \"yellowgreen\", \"gold\", \"c\", \"royalblue\", \"mediumorchid\", \"crimson\", \"dimgrey\"]\n",
    "score_list = [bilstm_score, bilstm_att_score, bilstm_att_cond_score, grad_score, gra_bert_only_score, gra_bert_pair_score, bert128_score, bert256_score, bert512_score, best_score]\n",
    "# ax = pd.Series(score_list).plot(kind=\"bar\")\n",
    "ax.barh(range(10), score_list, color=colors)\n",
    "rects = ax.patches\n",
    "\n",
    "for i, x in enumerate(score_list):\n",
    "    ax.text(x+150, i, \"{0:.2f}% {1}\".format(score_list[i]/best_score*100,names[i]))\n",
    "    \n",
    "xticks = list(range(0, 17000, 2000))\n",
    "ax.set_xticks(xticks)\n",
    "# ax.set_xticklabels()\n",
    "ax.set_title(\"Score Comparison of Different Model\")\n",
    "plt.tick_params(\n",
    "    axis='y',          # changes apply to the x-axis\n",
    "    which='both',      # both major and minor ticks are affected\n",
    "    left=False,      # ticks along the bottom edge are off\n",
    "    right=False,         # ticks along the top edge are off\n",
    "    labelleft=False) # labels along the bottom edge are off\n",
    "plt.grid()\n",
    "plt.savefig(\"./fnc/result/score_comparison.png\")\n",
    "plt.show()"
   ]
  },
  {
   "cell_type": "markdown",
   "metadata": {},
   "source": [
    "#### F1 plot"
   ]
  },
  {
   "cell_type": "code",
   "execution_count": 47,
   "metadata": {},
   "outputs": [
    {
     "data": {
      "text/plain": [
       "<Figure size 40960x30720 with 0 Axes>"
      ]
     },
     "metadata": {},
     "output_type": "display_data"
    },
    {
     "data": {
      "image/png": "[encoded data removed]",
      "text/plain": [
       "<Figure size 432x288 with 1 Axes>"
      ]
     },
     "metadata": {
      "needs_background": "light"
     },
     "output_type": "display_data"
    }
   ],
   "source": [
    "figure(num=None, figsize=(64, 48), dpi=640, facecolor='w', edgecolor='k')\n",
    "ind = np.arange(0, 8, 2)  # the x locations for the groups\n",
    "width = 0.25  # the width of the bars\n",
    "\n",
    "fig, ax = plt.subplots()\n",
    "rects1 = ax.bar(ind+width/2, bilstm_f1, width, label=names[0], color=colors[0])\n",
    "rects2 = ax.bar(ind+width*1.5, bilstm_att_f1, width, label=names[1], color=colors[1])\n",
    "rects3 = ax.bar(ind+width*2.5, bilstm_att_cond_f1, width, label=names[2], color=colors[2])\n",
    "rects4 = ax.bar(ind+width*3.5, grad_f1, width, label=names[3], color=colors[3])\n",
    "rects5 = ax.bar(ind+width*4.5, gra_bert_only_f1, width, label=names[4], color=colors[4])\n",
    "rects6 = ax.bar(ind+width*5.5, gra_bert_pair_f1, width, label=names[5], color=colors[5])\n",
    "rects7 = ax.bar(ind+width*6.5, bert512_f1, width, label='BERT(512)', color=colors[6])\n",
    "\n",
    "# Add some text for labels, title and custom x-axis tick labels, etc.\n",
    "ax.set_ylabel('F1')\n",
    "ax.set_title('F1 Comparison For Each Model on Each Class')\n",
    "ax.set_xticks(ind+3.5*width)\n",
    "ax.set_xticklabels(LABELS)\n",
    "ax.legend()\n",
    "\n",
    "# fig.tight_layout()\n",
    "plt.grid()\n",
    "plt.savefig(\"./fnc/result/f1.png\")\n",
    "plt.show()"
   ]
  },
  {
   "cell_type": "markdown",
   "metadata": {},
   "source": [
    "## Encode sequence using BERT."
   ]
  },
  {
   "cell_type": "markdown",
   "metadata": {},
   "source": [
    "#### To extract features from BERT, it needs to start a backend of bert-as-service as following.(Run it in a seperate shell!!!) And then use the client to encode the concatenated sequence with client. Or use provided script \"extracted_features.py\" in BERT git repository. For detailed code please check colab notebook.\n",
    "\n",
    "#### Since bert-as-service takes quite a long time, the extracted file \"train_pair.npy\" and \"test_pair.npy\" are actually produced by colab. The \"extracted_features.py\" first produce \".jsonl\" file and then further converted to npy file. Therefore, the following code is just provided for reviewing. The code to extract feature from \".jsonl\" is provided.\n",
    "\n",
    "#### 128 tokens for the combined sequence of body and headline takes far too long even on TPU. Therefore, this is the only experiment we could try for now."
   ]
  },
  {
   "cell_type": "code",
   "execution_count": 4,
   "metadata": {},
   "outputs": [
    {
     "name": "stdout",
     "output_type": "stream",
     "text": [
      "/Users/0517qm/Documents/Course/MSCI 641/project/msci641_fnc/fnc/model\n",
      "  % Total    % Received % Xferd  Average Speed   Time    Time     Time  Current\n",
      "                                 Dload  Upload   Total   Spent    Left  Speed\n",
      "100  388M  100  388M    0     0  1602k      0  0:04:08  0:04:08 --:--:-- 1593k 0  1701k      0  0:03:53  0:00:18  0:03:35 1549k2003k0:47  0:03:14  746k0:57  0:03:02 1833k  0:01:00  0:02:59 1753k      0  0:04:04  0:01:30  0:02:34  532k 0     0  1587k      0  0:04:10  0:01:34  0:02:36  627k 0:04:05  0:01:43  0:02:22 1888k9k      0  0:04:07  0:03:00  0:01:07 1875k      0  0:04:03  0:03:14  0:00:49 1833k0  0:04:03  0:03:23  0:00:40 1612k:04:06  0:03:37  0:00:29 1376k\n",
      "Archive:  uncased_L-12_H-768_A-12.zip\n",
      "   creating: uncased_L-12_H-768_A-12/\n",
      "  inflating: uncased_L-12_H-768_A-12/bert_model.ckpt.meta  \n",
      "  inflating: uncased_L-12_H-768_A-12/bert_model.ckpt.data-00000-of-00001  \n",
      "  inflating: uncased_L-12_H-768_A-12/vocab.txt  \n",
      "  inflating: uncased_L-12_H-768_A-12/bert_model.ckpt.index  \n",
      "  inflating: uncased_L-12_H-768_A-12/bert_config.json  \n",
      "/Users/0517qm/Documents/Course/MSCI 641/project/msci641_fnc\n"
     ]
    }
   ],
   "source": [
    "%cd ./fnc/model\n",
    "!curl https://storage.googleapis.com/bert_models/2018_10_18/uncased_L-12_H-768_A-12.zip --output uncased_L-12_H-768_A-12.zip\n",
    "!unzip uncased_L-12_H-768_A-12.zip && rm uncased_L-12_H-768_A-12.zip\n",
    "%cd ../../"
   ]
  },
  {
   "cell_type": "code",
   "execution_count": null,
   "metadata": {},
   "outputs": [],
   "source": [
    "!bert-serving-start -model_dir ./fnc/model/uncased_L-12_H-768_A-12/ -num_worker=4 -max_seq_len=128 -pooling_strategy=CLS_TOKEN"
   ]
  },
  {
   "cell_type": "code",
   "execution_count": 118,
   "metadata": {},
   "outputs": [
    {
     "name": "stdout",
     "output_type": "stream",
     "text": [
      "Reading dataset\n",
      "Total stances: 25413\n",
      "Total bodies: 904\n",
      "Reading dataset\n",
      "Total stances: 49972\n",
      "Total bodies: 1683\n"
     ]
    }
   ],
   "source": [
    "from bert_serving.client import BertClient\n",
    "\n",
    "\n",
    "def clean(s):\n",
    "    return \" \".join(re.findall(r'\\w+', s, flags=re.UNICODE)).lower()\n",
    "\n",
    "\n",
    "def transform_data(data_part, data, f_name, sep=False): \n",
    "    if not sep:\n",
    "        x, y = [], []\n",
    "        for stance in data_part:\n",
    "            y.append(LABELS.index(stance['Stance']))  \n",
    "            bert_str = clean(data.articles[stance['Body ID']])+\" ||| \"+clean(stance['Headline'])\n",
    "            x.append(bert_str)\n",
    "        with open(f_name, \"w\") as f:\n",
    "            for s in x:\n",
    "                f.write(s+\"\\n\")\n",
    "    else:\n",
    "        f_head = \"head_\" + f_name\n",
    "        f_body = \"body_\" + f_name\n",
    "        h, b, y = [], [], []\n",
    "        for stance in data_part:\n",
    "            y.append(LABELS.index(stance['Stance']))  \n",
    "            h.append(clean(stance['Headline']))\n",
    "            b.append(clean(data.articles[stance['Body ID']]))\n",
    "        with open(f_head, \"w\") as f:\n",
    "            for s in h:\n",
    "                f.write(s+\"\\n\")\n",
    "        with open(f_body, \"w\") as f:\n",
    "            for s in b:\n",
    "                f.write(s+\"\\n\")\n",
    "            \n",
    "\n",
    "def transform(data_part, data):\n",
    "    x, y = [], []\n",
    "    for stance in data_part:\n",
    "        y.append(LABELS.index(stance['Stance']))  \n",
    "        bert_str = clean(data.articles[stance['Body ID']])+\" ||| \"+clean(stance['Headline'])\n",
    "        x.append(bert_str)\n",
    "    return x, y\n",
    "            \n",
    "competition = DataSet(name=\"competition_test\", path=\"./fnc-1-baseline/fnc-1\")\n",
    "data = DataSet(path=\"./fnc-1-baseline/fnc-1\")\n",
    "# transform_data(data.stances, data, \"./fnc/data/pair_token.tsv\")\n",
    "# transform_data(competition.stances, competition, \"./fnc/data/competition_pair.tsv\")\n",
    "\n",
    "com_x, com_y = transform(competition.stances, competition)\n",
    "train_x, train_y = transform(data.stances, data)\n",
    "\n",
    "bc = BertClient()\n",
    "encoded_train_x = bc.encode(train_x)\n",
    "encoded_com_x = bc.encode(com_x)\n",
    "np.save(\"./fnc-1-baseline/features/train_pair.npy\")\n",
    "np.save(\"./fnc-1-baseline/features/test_pair.npy\")"
   ]
  },
  {
   "cell_type": "markdown",
   "metadata": {},
   "source": [
    "#### Convert jsonl to npy"
   ]
  },
  {
   "cell_type": "markdown",
   "metadata": {},
   "source": [
    "Save the extracted CLS token representation as new features for gradient booster."
   ]
  },
  {
   "cell_type": "code",
   "execution_count": 142,
   "metadata": {},
   "outputs": [],
   "source": [
    "import json\n",
    "\n",
    "\n",
    "com_val = []\n",
    "with open(\"./fnc/data/competition_pair.jsonl\", \"r\") as f:\n",
    "    s = f.readlines()\n",
    "    for i in s:\n",
    "        com_val.append(json.loads(i)['features'][0]['layers'][0]['values'])\n",
    "np.save(\"./fnc-1-baseline/features/test_pair.npy\", np.array(com_val))\n",
    "\n",
    "train_val = []\n",
    "with open(\"./fnc/data/pair.jsonl\", \"r\") as f:\n",
    "    s = f.readlines()\n",
    "    for i in s:\n",
    "        train_val.append(json.loads(i)['features'][0]['layers'][0]['values'])\n",
    "np.save(\"./fnc-1-baseline/features/train_pair.npy\", np.array(train_val))"
   ]
  },
  {
   "cell_type": "markdown",
   "metadata": {},
   "source": [
    "## Run GradientBoost."
   ]
  },
  {
   "cell_type": "code",
   "execution_count": null,
   "metadata": {},
   "outputs": [],
   "source": [
    "%cd fnc-1-baseline/\n",
    "!pwd\n",
    "!python grad_bert.py\n",
    "%cd .."
   ]
  }
 ],
 "metadata": {
  "kernelspec": {
   "display_name": "Python 3",
   "language": "python",
   "name": "python3"
  },
  "language_info": {
   "codemirror_mode": {
    "name": "ipython",
    "version": 3
   },
   "file_extension": ".py",
   "mimetype": "text/x-python",
   "name": "python",
   "nbconvert_exporter": "python",
   "pygments_lexer": "ipython3",
   "version": "3.6.5"
  }
 },
 "nbformat": 4,
 "nbformat_minor": 2
}
