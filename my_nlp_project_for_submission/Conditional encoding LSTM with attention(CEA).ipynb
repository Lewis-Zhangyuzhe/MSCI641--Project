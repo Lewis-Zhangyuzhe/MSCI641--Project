{
 "cells": [
  {
   "cell_type": "code",
   "execution_count": 1,
   "metadata": {},
   "outputs": [
    {
     "name": "stderr",
     "output_type": "stream",
     "text": [
      "D:\\Anaconda3\\lib\\site-packages\\gensim\\utils.py:1197: UserWarning: detected Windows; aliasing chunkize to chunkize_serial\n",
      "  warnings.warn(\"detected Windows; aliasing chunkize to chunkize_serial\")\n",
      "Using TensorFlow backend.\n"
     ]
    }
   ],
   "source": [
    "import gensim\n",
    "import numpy as np\n",
    "import pandas as pd\n",
    "import os\n",
    "import re\n",
    "import csv\n",
    "import codecs\n",
    "import sys\n",
    "import pickle\n",
    "\n",
    "from gensim.scripts.glove2word2vec import glove2word2vec\n",
    "from gensim.models import KeyedVectors\n",
    "from sklearn.model_selection import train_test_split\n",
    "\n",
    "from keras import callbacks\n",
    "from keras import optimizers\n",
    "from keras.models import Sequential, Model\n",
    "from keras.layers import concatenate,Input, Dense, LSTM, Embedding, Dropout, BatchNormalization, Activation, Bidirectional\n",
    "from keras.layers.merge import concatenate\n",
    "from keras.layers.normalization import BatchNormalization\n",
    "from keras.preprocessing.text import text_to_word_sequence, Tokenizer\n",
    "from keras.preprocessing.sequence import pad_sequences\n",
    "\n",
    "import matplotlib as mpl\n",
    "%matplotlib inline\n",
    "from matplotlib import pyplot as plt\n",
    "from keras.utils import plot_model \n",
    "from IPython.display import Image\n",
    "import pydot\n",
    "from sklearn.preprocessing import LabelEncoder\n",
    "from keras.utils import np_utils\n",
    "import tensorflow as tf\n",
    "\n",
    "tf_config = tf.ConfigProto()\n",
    "tf_config.gpu_options.allow_growth = True\n",
    "sess = tf.Session(config=tf_config)\n",
    "\n",
    "\n",
    "from keras import backend as K\n",
    "from keras.engine.topology import Layer\n",
    "#from keras import initializations\n",
    "from keras import initializers, regularizers, constraints\n"
   ]
  },
  {
   "cell_type": "code",
   "execution_count": null,
   "metadata": {},
   "outputs": [],
   "source": [
    "!curl -L http://nlp.stanford.edu/data/glove.twitter.27B.zip --output glove.twitter.27B.zip\n"
   ]
  },
  {
   "cell_type": "code",
   "execution_count": null,
   "metadata": {},
   "outputs": [],
   "source": [
    "!unzip glove.twitter.27B.zip\n"
   ]
  },
  {
   "cell_type": "code",
   "execution_count": 22,
   "metadata": {},
   "outputs": [],
   "source": [
    "GloVe_DIR = 'glove.twitter.27B.50d.txt'\n",
    "DATA_DIR = './data'"
   ]
  },
  {
   "cell_type": "code",
   "execution_count": 23,
   "metadata": {},
   "outputs": [],
   "source": [
    "# hyperparameter\n",
    "MAX_SENT_LEN_HEAD = 15 \n",
    "MAX_SENT_LEN_BODY = 125\n",
    "MAX_VOCAB_SIZE = 30000 \n",
    "LSTM_DIM = 100 \n",
    "EMBEDDING_DIM = 50 \n",
    "BATCH_SIZE = 128\n",
    "N_EPOCHS = 40"
   ]
  },
  {
   "cell_type": "code",
   "execution_count": 4,
   "metadata": {},
   "outputs": [],
   "source": [
    "seed = 1\n",
    "np.random.seed(seed)"
   ]
  },
  {
   "cell_type": "code",
   "execution_count": 5,
   "metadata": {},
   "outputs": [
    {
     "data": {
      "text/html": [
       "<div>\n",
       "<style scoped>\n",
       "    .dataframe tbody tr th:only-of-type {\n",
       "        vertical-align: middle;\n",
       "    }\n",
       "\n",
       "    .dataframe tbody tr th {\n",
       "        vertical-align: top;\n",
       "    }\n",
       "\n",
       "    .dataframe thead th {\n",
       "        text-align: right;\n",
       "    }\n",
       "</style>\n",
       "<table border=\"1\" class=\"dataframe\">\n",
       "  <thead>\n",
       "    <tr style=\"text-align: right;\">\n",
       "      <th></th>\n",
       "      <th>Body ID</th>\n",
       "      <th>articleBody</th>\n",
       "    </tr>\n",
       "  </thead>\n",
       "  <tbody>\n",
       "    <tr>\n",
       "      <th>0</th>\n",
       "      <td>1</td>\n",
       "      <td>Al-Sisi has denied Israeli reports stating tha...</td>\n",
       "    </tr>\n",
       "    <tr>\n",
       "      <th>1</th>\n",
       "      <td>2</td>\n",
       "      <td>A bereaved Afghan mother took revenge on the T...</td>\n",
       "    </tr>\n",
       "    <tr>\n",
       "      <th>2</th>\n",
       "      <td>3</td>\n",
       "      <td>CNBC is reporting Tesla has chosen Nevada as t...</td>\n",
       "    </tr>\n",
       "    <tr>\n",
       "      <th>3</th>\n",
       "      <td>12</td>\n",
       "      <td>A 4-inch version of the iPhone 6 is said to be...</td>\n",
       "    </tr>\n",
       "    <tr>\n",
       "      <th>4</th>\n",
       "      <td>19</td>\n",
       "      <td>GR editor’s Note\\n\\nThere are no reports in th...</td>\n",
       "    </tr>\n",
       "    <tr>\n",
       "      <th>5</th>\n",
       "      <td>20</td>\n",
       "      <td>“I once sent Tim an email about the quality of...</td>\n",
       "    </tr>\n",
       "    <tr>\n",
       "      <th>6</th>\n",
       "      <td>21</td>\n",
       "      <td>Absolutely no one was devastated when news bro...</td>\n",
       "    </tr>\n",
       "    <tr>\n",
       "      <th>7</th>\n",
       "      <td>28</td>\n",
       "      <td>In designing its first wearable device in the ...</td>\n",
       "    </tr>\n",
       "    <tr>\n",
       "      <th>8</th>\n",
       "      <td>31</td>\n",
       "      <td>The picture of a possible \"Crabzilla\" measurin...</td>\n",
       "    </tr>\n",
       "    <tr>\n",
       "      <th>9</th>\n",
       "      <td>33</td>\n",
       "      <td>Early Tuesday morning, Dornella Conner was “ri...</td>\n",
       "    </tr>\n",
       "  </tbody>\n",
       "</table>\n",
       "</div>"
      ],
      "text/plain": [
       "   Body ID                                        articleBody\n",
       "0        1  Al-Sisi has denied Israeli reports stating tha...\n",
       "1        2  A bereaved Afghan mother took revenge on the T...\n",
       "2        3  CNBC is reporting Tesla has chosen Nevada as t...\n",
       "3       12  A 4-inch version of the iPhone 6 is said to be...\n",
       "4       19  GR editor’s Note\\n\\nThere are no reports in th...\n",
       "5       20  “I once sent Tim an email about the quality of...\n",
       "6       21  Absolutely no one was devastated when news bro...\n",
       "7       28  In designing its first wearable device in the ...\n",
       "8       31  The picture of a possible \"Crabzilla\" measurin...\n",
       "9       33  Early Tuesday morning, Dornella Conner was “ri..."
      ]
     },
     "execution_count": 5,
     "metadata": {},
     "output_type": "execute_result"
    }
   ],
   "source": [
    "train_bodies = pd.read_csv('./data/train_bodies.csv')\n",
    "train_bodies.head(10)\n",
    "test_bodies = pd.read_csv('./data/competition_test_bodies.csv')\n",
    "test_bodies.head(10)"
   ]
  },
  {
   "cell_type": "code",
   "execution_count": 6,
   "metadata": {},
   "outputs": [],
   "source": [
    "# load training data\n",
    "train_df = pd.read_csv(DATA_DIR + '/train_stances.csv')\n",
    "# load testing data\n",
    "test_df = pd.read_csv(DATA_DIR + '/competition_test_stances.csv')"
   ]
  },
  {
   "cell_type": "code",
   "execution_count": 7,
   "metadata": {},
   "outputs": [],
   "source": [
    "# numeralize the stance label\n",
    "train_df.replace('unrelated',1,True)\n",
    "train_df.replace('agree',2,True)\n",
    "train_df.replace('disagree',3,True)\n",
    "train_df.replace('discuss',4,True)\n",
    "\n",
    "test_df.replace('unrelated',1,True)\n",
    "test_df.replace('agree',2,True)\n",
    "test_df.replace('disagree',3,True)\n",
    "test_df.replace('discuss',4,True)"
   ]
  },
  {
   "cell_type": "code",
   "execution_count": 8,
   "metadata": {},
   "outputs": [],
   "source": [
    "# combine the bodyArticle with the main content\n",
    "combine_df_train = train_df.join(train_bodies.set_index('Body ID'), on='Body ID')\n",
    "combine_df_test = test_df.join(test_bodies.set_index('Body ID'), on='Body ID')"
   ]
  },
  {
   "cell_type": "code",
   "execution_count": 9,
   "metadata": {},
   "outputs": [],
   "source": [
    "# text to wordsequence\n",
    "word_seq_head_train = [text_to_word_sequence(head) for head in combine_df_train['Headline']]\n",
    "word_seq_bodies_train = [text_to_word_sequence(body) for body in combine_df_train['articleBody']]\n",
    "\n",
    "word_seq_head_test = [text_to_word_sequence(head) for head in combine_df_test['Headline']]\n",
    "word_seq_bodies_test = [text_to_word_sequence(body) for body in combine_df_test['articleBody']]"
   ]
  },
  {
   "cell_type": "code",
   "execution_count": 10,
   "metadata": {},
   "outputs": [],
   "source": [
    "word_seq = []\n",
    "for i in range(len(word_seq_head_train)):\n",
    "    word_seq.append(word_seq_head_train[i])\n",
    "for i in range(len(word_seq_bodies_train)):\n",
    "    word_seq.append(word_seq_bodies_train[i])"
   ]
  },
  {
   "cell_type": "code",
   "execution_count": 11,
   "metadata": {},
   "outputs": [
    {
     "name": "stdout",
     "output_type": "stream",
     "text": [
      "Number of words in vocabulary: 27873\n"
     ]
    }
   ],
   "source": [
    "# use tokenizer API to map each token to unique integer\n",
    "filter_list = '!\"\\'#$%&()*+,-./:;<=>?@[\\\\]^_`{|}~\\t\\n'\n",
    "\n",
    "tokenizer = Tokenizer(num_words=MAX_VOCAB_SIZE, filters=filter_list)\n",
    "tokenizer.fit_on_texts([seq for seq in word_seq])\n",
    "#because it only includes unique words(tokens)\n",
    "\n",
    "print(\"Number of words in vocabulary:\", len(tokenizer.word_index))"
   ]
  },
  {
   "cell_type": "code",
   "execution_count": 12,
   "metadata": {},
   "outputs": [
    {
     "name": "stdout",
     "output_type": "stream",
     "text": [
      "[1060    4 9286 2530 7618    5 2535   18  991 7506 4770    0    0    0\n",
      "    0]\n",
      "[ 1060     4  9286    36  7081    22    51  1644   466   480    34   559\n",
      "   485  1244     3   291     4  4770   159     1   136  7669     1  2535\n",
      "  2141     5     1  6153     4     3   323  3999  3147  4198     1  2535\n",
      "   617     4  2297    12     5     3   187     7  1210   979   836     6\n",
      "  4045    22     1   617     4   220  1713    32  7081    52   102  3152\n",
      "  2018    22   275  2421     4     1  2535  2141 10796  2535    34    51\n",
      "  1644  5287    18   689  2927   744    52   102   133  3895  2535    20\n",
      "  3658  7669     5   323   211  1563     3   701  4198     7   576  7811\n",
      "  2825     6 21996  5007  4935   193     1  4198  6600   822     6   840\n",
      " 21997    11  5240     4   692   157   161     4     1  4438  8652   145\n",
      "  9286   189   636    19   991]\n"
     ]
    },
    {
     "data": {
      "text/plain": [
       "0        1\n",
       "1        2\n",
       "2        1\n",
       "3        1\n",
       "4        3\n",
       "5        2\n",
       "6        1\n",
       "7        1\n",
       "8        2\n",
       "9        1\n",
       "10       4\n",
       "11       2\n",
       "12       1\n",
       "13       1\n",
       "14       4\n",
       "15       1\n",
       "16       4\n",
       "17       2\n",
       "18       1\n",
       "19       4\n",
       "20       1\n",
       "21       4\n",
       "22       1\n",
       "23       1\n",
       "24       2\n",
       "25       2\n",
       "26       1\n",
       "27       1\n",
       "28       1\n",
       "29       4\n",
       "        ..\n",
       "49942    1\n",
       "49943    1\n",
       "49944    4\n",
       "49945    1\n",
       "49946    4\n",
       "49947    1\n",
       "49948    1\n",
       "49949    4\n",
       "49950    1\n",
       "49951    1\n",
       "49952    1\n",
       "49953    1\n",
       "49954    1\n",
       "49955    1\n",
       "49956    4\n",
       "49957    1\n",
       "49958    1\n",
       "49959    1\n",
       "49960    1\n",
       "49961    1\n",
       "49962    1\n",
       "49963    1\n",
       "49964    1\n",
       "49965    1\n",
       "49966    1\n",
       "49967    1\n",
       "49968    1\n",
       "49969    2\n",
       "49970    4\n",
       "49971    1\n",
       "Name: Stance, Length: 49972, dtype: int64"
      ]
     },
     "execution_count": 12,
     "metadata": {},
     "output_type": "execute_result"
    }
   ],
   "source": [
    "# Convert the sequence of words to sequnce of indices\n",
    "X_train_HEAD = tokenizer.texts_to_sequences([' '.join(seq[:MAX_SENT_LEN_HEAD]) for seq in word_seq_head_train])\n",
    "# list of list; join is to extend the list\n",
    "X_train_HEAD = pad_sequences(X_train_HEAD, maxlen=MAX_SENT_LEN_HEAD, padding='post', truncating='post')\n",
    "# y has already to be convert to 1,0 sequence\n",
    "X_train_BODY = tokenizer.texts_to_sequences([' '.join(seq[:MAX_SENT_LEN_BODY]) for seq in word_seq_bodies_train])\n",
    "print(X_train_HEAD[1])\n",
    "X_train_BODY = pad_sequences(X_train_BODY, maxlen=MAX_SENT_LEN_BODY, padding='post', truncating='post')\n",
    "print(X_train_BODY[1])\n",
    "y_train = combine_df_train['Stance']\n",
    "y_train"
   ]
  },
  {
   "cell_type": "code",
   "execution_count": 13,
   "metadata": {},
   "outputs": [
    {
     "name": "stdout",
     "output_type": "stream",
     "text": [
      "[ 3083 10262    26   549     3 17239  5936   118   202   113     0     0\n",
      "     0     0     0]\n",
      "[ 8615 27680    80   300 13788   234  4644     8   165     5    46  2839\n",
      "    80  5238  4644    46  2839     8   516     2  2719   300   849  4644\n",
      "    18    15 10172     2  6578    63   300   100  1883    95  1032    24\n",
      "  2713   215    10    46    80 16292   917     1  2614    50    23    52\n",
      "   102    24     1  1676    54     3   234  9329     3   234    11    63\n",
      "  6599  1197   102    63  1114  4644    80  5174    38   610  4406     1\n",
      "  5238     6  5742    23 12461    81    46    80  8493  1707   932    78\n",
      "     2     1   348    15  1062   543   137   439     1   657  3909    38\n",
      "    23    29  4644    80   828   278   582   610  1062  1543     3  8887\n",
      "     7 15332   277  2839    80  1180  1790  2614     4 14913    44  5539\n",
      "    52   102  2316   278   582]\n"
     ]
    },
    {
     "data": {
      "text/plain": [
       "0        1\n",
       "1        1\n",
       "2        1\n",
       "3        1\n",
       "4        1\n",
       "5        1\n",
       "6        1\n",
       "7        1\n",
       "8        1\n",
       "9        1\n",
       "10       2\n",
       "11       1\n",
       "12       4\n",
       "13       1\n",
       "14       4\n",
       "15       2\n",
       "16       1\n",
       "17       1\n",
       "18       1\n",
       "19       1\n",
       "20       4\n",
       "21       2\n",
       "22       2\n",
       "23       3\n",
       "24       4\n",
       "25       1\n",
       "26       1\n",
       "27       4\n",
       "28       1\n",
       "29       2\n",
       "        ..\n",
       "25383    2\n",
       "25384    3\n",
       "25385    4\n",
       "25386    2\n",
       "25387    2\n",
       "25388    3\n",
       "25389    3\n",
       "25390    2\n",
       "25391    4\n",
       "25392    3\n",
       "25393    3\n",
       "25394    2\n",
       "25395    2\n",
       "25396    3\n",
       "25397    4\n",
       "25398    2\n",
       "25399    2\n",
       "25400    3\n",
       "25401    2\n",
       "25402    3\n",
       "25403    4\n",
       "25404    2\n",
       "25405    2\n",
       "25406    3\n",
       "25407    3\n",
       "25408    2\n",
       "25409    4\n",
       "25410    3\n",
       "25411    3\n",
       "25412    2\n",
       "Name: Stance, Length: 25413, dtype: int64"
      ]
     },
     "execution_count": 13,
     "metadata": {},
     "output_type": "execute_result"
    }
   ],
   "source": [
    "# Convert the sequence of words to sequnce of indices\n",
    "X_test_HEAD = tokenizer.texts_to_sequences([' '.join(seq[:MAX_SENT_LEN_HEAD]) for seq in word_seq_head_test])\n",
    "# list of list; join is to extend the list\n",
    "X_test_HEAD = pad_sequences(X_test_HEAD, maxlen=MAX_SENT_LEN_HEAD, padding='post', truncating='post')\n",
    "# y has already to be convert to 1,0 sequence\n",
    "X_test_BODY = tokenizer.texts_to_sequences([' '.join(seq[:MAX_SENT_LEN_BODY]) for seq in word_seq_bodies_test])\n",
    "X_test_BODY = pad_sequences(X_test_BODY, maxlen=MAX_SENT_LEN_BODY, padding='post', truncating='post')\n",
    "y_test = combine_df_test['Stance']\n",
    "print(X_test_HEAD[1])\n",
    "print(X_test_BODY[1])\n",
    "y_test"
   ]
  },
  {
   "cell_type": "code",
   "execution_count": 14,
   "metadata": {},
   "outputs": [],
   "source": [
    "#encode train class values as integers(4 dimensions)\n",
    "encoder_train = LabelEncoder()\n",
    "encoder_train.fit(y_train)\n",
    "encoded_train = encoder_train.transform(y_train)\n",
    "# convert integers to dummy variables (i.e. one hot encoded)\n",
    "dummy_y_train = np_utils.to_categorical(encoded_train)"
   ]
  },
  {
   "cell_type": "code",
   "execution_count": 15,
   "metadata": {},
   "outputs": [],
   "source": [
    "# spilt the dataset\n",
    "X_train_HEAD, X_valid_HEAD, X_train_BODY, X_valid_BODY, y_train, y_valid = train_test_split(X_train_HEAD,X_train_BODY, dummy_y_train, random_state=10, test_size=0.1)"
   ]
  },
  {
   "cell_type": "code",
   "execution_count": 16,
   "metadata": {},
   "outputs": [],
   "source": [
    "#encode test class values as integers\n",
    "encoder_test = LabelEncoder()\n",
    "encoder_test.fit(y_test)\n",
    "encoded_test = encoder_test.transform(y_test)\n",
    "# convert integers to dummy variables (i.e. one hot encoded)\n",
    "y_test = np_utils.to_categorical(encoded_test)"
   ]
  },
  {
   "cell_type": "markdown",
   "metadata": {},
   "source": [
    "#  build the model"
   ]
  },
  {
   "cell_type": "code",
   "execution_count": null,
   "metadata": {},
   "outputs": [
    {
     "name": "stderr",
     "output_type": "stream",
     "text": [
      "D:\\Anaconda3\\lib\\site-packages\\smart_open\\smart_open_lib.py:398: UserWarning: This function is deprecated, use smart_open.open instead. See the migration notes for details: https://github.com/RaRe-Technologies/smart_open/blob/master/README.rst#migrating-to-the-new-open-function\n",
      "  'See the migration notes for details: %s' % _MIGRATION_NOTES_URL\n"
     ]
    }
   ],
   "source": [
    "#GloVes Load\n",
    "glove_input_file = GloVe_DIR\n",
    "word2vec_output_file = 'glove.50d.txt.word2vec'\n",
    "glove2word2vec(glove_input_file, word2vec_output_file)\n",
    "embeddings = gensim.models.KeyedVectors.load_word2vec_format(word2vec_output_file, binary=False)"
   ]
  },
  {
   "cell_type": "code",
   "execution_count": 29,
   "metadata": {},
   "outputs": [],
   "source": [
    "embeddings_matrix = np.random.uniform(-0.05, 0.05, size=(len(tokenizer.word_index)+1, EMBEDDING_DIM))\n",
    "for word, i in tokenizer.word_index.items():\n",
    "    try:\n",
    "        embeddings_vector = embeddings[word]\n",
    "    except KeyError:\n",
    "        embeddings_vector = None     \n",
    "    if embeddings_vector is not None:\n",
    "        embeddings_matrix[i] = embeddings_vector\n",
    "\n",
    "del embeddings\n",
    "#delete"
   ]
  },
  {
   "cell_type": "code",
   "execution_count": 30,
   "metadata": {},
   "outputs": [],
   "source": [
    "headline_embedding_layer = Embedding(len(tokenizer.word_index) + 1,\n",
    "                            EMBEDDING_DIM,\n",
    "                            weights=[embeddings_matrix],\n",
    "                            input_length=MAX_SENT_LEN_HEAD,\n",
    "                            trainable=True,mask_zero=True)"
   ]
  },
  {
   "cell_type": "code",
   "execution_count": 31,
   "metadata": {},
   "outputs": [],
   "source": [
    "headline_sequence_input = Input(shape=(MAX_SENT_LEN_HEAD,))\n",
    "embedded_headline = headline_embedding_layer(headline_sequence_input)\n",
    "headline_lstm = LSTM(100, recurrent_dropout = 0.8, return_sequences = True, return_state = True)\n",
    "encoder_outputs, state_h, state_c = headline_lstm(embedded_headline)\n",
    "\n",
    "encoder_states = [state_h, state_c]"
   ]
  },
  {
   "cell_type": "code",
   "execution_count": 32,
   "metadata": {},
   "outputs": [],
   "source": [
    "article_embedding_layer = Embedding(len(tokenizer.word_index) + 1,\n",
    "                            EMBEDDING_DIM,\n",
    "                            weights=[embeddings_matrix],\n",
    "                            input_length=MAX_SENT_LEN_BODY,\n",
    "                            trainable=True,mask_zero=True)"
   ]
  },
  {
   "cell_type": "code",
   "execution_count": 33,
   "metadata": {},
   "outputs": [],
   "source": [
    "article_sequence_input = Input(shape=(MAX_SENT_LEN_BODY,))\n",
    "embedded_article = article_embedding_layer(article_sequence_input)\n",
    "article_lstm = LSTM(100, return_sequences = True)\n",
    "encoded_article = article_lstm(embedded_article,initial_state=encoder_states)\n",
    "encoded_article = Dropout(.8)(encoded_article)"
   ]
  },
  {
   "cell_type": "code",
   "execution_count": 34,
   "metadata": {},
   "outputs": [],
   "source": [
    "class Attention(Layer):\n",
    "    def __init__(self, attention_length = 15 ,\n",
    "                 W_regularizer=None, \n",
    "                 W_constraint=None, \n",
    "                  **kwargs):\n",
    "\n",
    "        #self.supports_masking = True\n",
    "        #Xavier uniform initializer\n",
    "        self.init = initializers.get('glorot_uniform')\n",
    "\n",
    "        self.W_regularizer = regularizers.get(W_regularizer)\n",
    "\n",
    "        self.W_constraint = constraints.get(W_constraint)\n",
    "\n",
    "        self.attention_length = 15\n",
    "        self.features_dim = 100 \n",
    "        super(Attention, self).__init__(**kwargs)\n",
    "\n",
    "    def build(self, input_shape):        \n",
    "        \n",
    "        self.Wy = self.add_weight((self.features_dim,self.features_dim),\n",
    "                                 initializer=self.init,\n",
    "                                 name='{}_Wy'.format(self.name),\n",
    "                                 regularizer=self.W_regularizer,\n",
    "                                 constraint=self.W_constraint)\n",
    "        \n",
    "\n",
    "        \n",
    "        self.Wh = self.add_weight((self.features_dim,self.features_dim),\n",
    "                                     initializer=self.init,\n",
    "                                     name='{}_Wh'.format(self.name),\n",
    "                                     regularizer=self.W_regularizer,\n",
    "                                     constraint=self.W_constraint)\n",
    "\n",
    "        self.w = self.add_weight((self.features_dim,1),\n",
    "                                     initializer=self.init,\n",
    "                                     name='{}_x'.format(self.name),\n",
    "                                     regularizer=self.W_regularizer,\n",
    "                                     constraint=self.W_constraint)\n",
    "\n",
    "        self.Wp = self.add_weight((self.features_dim,self.features_dim),\n",
    "                                     initializer=self.init,\n",
    "                                     name='{}_Wp'.format(self.name),\n",
    "                                     regularizer=self.W_regularizer,\n",
    "                                     constraint=self.W_constraint)\n",
    "        \n",
    "        self.Wx = self.add_weight((self.features_dim,self.features_dim),\n",
    "                                     initializer=self.init,\n",
    "                                     name='{}_Wx'.format(self.name),\n",
    "                                     regularizer=self.W_regularizer,\n",
    "                                     constraint=self.W_constraint)\n",
    "\n",
    "        self.built = True\n",
    "\n",
    "    def compute_mask(self, input, input_mask=None):\n",
    "        # do not pass the mask to the next layers\n",
    "        return None\n",
    "\n",
    "    def call(self, x, mask=None):\n",
    "        \n",
    "        #x is a list containing the output hidden layers of first LSTM(), and the final state of seconde LSTM(body)\n",
    "        Y_states = tf.slice(x[0], begin = [0, 0, 0], size = [-1, self.attention_length, -1]) #outputs of headline states\n",
    "        h_state = x[1][:,-1,:] #output state of article lstm\n",
    "        print (\"Y_states\", Y_states.shape)\n",
    "        print (\"h_state\",h_state.shape)\n",
    "        \n",
    "        features_dim = self.features_dim\n",
    "       \n",
    "\n",
    "        M1 = K.reshape(K.dot(K.reshape(Y_states, (-1, features_dim)), self.Wy),shape = (-1,self.attention_length,features_dim ))\n",
    "        M2 = K.expand_dims(K.dot(h_state, self.Wh),axis=1)\n",
    "        M = K.tanh(M1+M2)\n",
    "        alpha = K.reshape(K.softmax(K.dot(K.reshape(M, shape = (-1, features_dim)), self.w)), shape = (-1, self.attention_length))\n",
    "        r = tf.squeeze(tf.matmul(tf.transpose(tf.expand_dims(alpha, 2), perm = [0, 2, 1]), Y_states))\n",
    "        h_star = tf.tanh(tf.matmul(r, self.Wp) + tf.matmul(h_state, self.Wx))\n",
    "        \n",
    "\n",
    "        return h_star\n",
    "\n",
    "    def compute_output_shape(self, input_shape):\n",
    "        #return input_shape[0], input_shape[-1]\n",
    "        return input_shape[0],  self.features_dim"
   ]
  },
  {
   "cell_type": "code",
   "execution_count": 35,
   "metadata": {},
   "outputs": [
    {
     "name": "stdout",
     "output_type": "stream",
     "text": [
      "Y_states (?, 15, 100)\n",
      "h_state (?, 100)\n"
     ]
    }
   ],
   "source": [
    "AttentionLayer = Attention()\n",
    "attention_res = AttentionLayer([encoder_outputs, encoded_article] )\n",
    "\n",
    "preds = Dense(4, activation='softmax')(attention_res)"
   ]
  },
  {
   "cell_type": "code",
   "execution_count": 36,
   "metadata": {
    "scrolled": false
   },
   "outputs": [
    {
     "name": "stdout",
     "output_type": "stream",
     "text": [
      "Train on 44974 samples, validate on 4998 samples\n",
      "Epoch 1/40\n",
      "44974/44974 [==============================] - 136s 3ms/step - loss: 0.7833 - acc: 0.7285 - val_loss: 0.7069 - val_acc: 0.7439\n"
     ]
    },
    {
     "name": "stderr",
     "output_type": "stream",
     "text": [
      "D:\\Anaconda3\\lib\\site-packages\\keras\\engine\\network.py:877: UserWarning: Layer lstm_4 was passed non-serializable keyword arguments: {'initial_state': [<tf.Tensor 'lstm_3/while/Exit_3:0' shape=(?, 100) dtype=float32>, <tf.Tensor 'lstm_3/while/Exit_4:0' shape=(?, 100) dtype=float32>]}. They will not be included in the serialized model (and thus will be missing at deserialization time).\n",
      "  '. They will not be included '\n"
     ]
    },
    {
     "name": "stdout",
     "output_type": "stream",
     "text": [
      "Epoch 2/40\n",
      "44974/44974 [==============================] - 136s 3ms/step - loss: 0.6492 - acc: 0.7534 - val_loss: 0.5789 - val_acc: 0.7721\n",
      "Epoch 3/40\n",
      "44974/44974 [==============================] - 140s 3ms/step - loss: 0.5381 - acc: 0.7831 - val_loss: 0.4867 - val_acc: 0.8015\n",
      "Epoch 4/40\n",
      "44974/44974 [==============================] - 145s 3ms/step - loss: 0.4563 - acc: 0.8163 - val_loss: 0.4336 - val_acc: 0.8213\n",
      "Epoch 5/40\n",
      "44974/44974 [==============================] - 146s 3ms/step - loss: 0.3918 - acc: 0.8421 - val_loss: 0.3801 - val_acc: 0.8449\n",
      "Epoch 6/40\n",
      "44974/44974 [==============================] - 145s 3ms/step - loss: 0.3514 - acc: 0.8580 - val_loss: 0.3482 - val_acc: 0.8619\n",
      "Epoch 7/40\n",
      "44974/44974 [==============================] - 155s 3ms/step - loss: 0.3224 - acc: 0.8699 - val_loss: 0.3341 - val_acc: 0.8655\n",
      "Epoch 8/40\n",
      "44974/44974 [==============================] - 169s 4ms/step - loss: 0.2946 - acc: 0.8824 - val_loss: 0.3106 - val_acc: 0.8796\n",
      "Epoch 9/40\n",
      "44974/44974 [==============================] - 135s 3ms/step - loss: 0.2764 - acc: 0.8896 - val_loss: 0.3036 - val_acc: 0.8822\n",
      "Epoch 10/40\n",
      "44974/44974 [==============================] - 155s 3ms/step - loss: 0.2508 - acc: 0.9004 - val_loss: 0.2723 - val_acc: 0.8986\n",
      "Epoch 11/40\n",
      "44974/44974 [==============================] - 151s 3ms/step - loss: 0.2312 - acc: 0.9094 - val_loss: 0.2542 - val_acc: 0.9060\n",
      "Epoch 12/40\n",
      "44974/44974 [==============================] - 154s 3ms/step - loss: 0.2136 - acc: 0.9177 - val_loss: 0.2430 - val_acc: 0.9092\n",
      "Epoch 13/40\n",
      "44974/44974 [==============================] - 151s 3ms/step - loss: 0.1983 - acc: 0.9236 - val_loss: 0.2601 - val_acc: 0.9042\n",
      "Epoch 14/40\n",
      "44974/44974 [==============================] - 147s 3ms/step - loss: 0.1871 - acc: 0.9280 - val_loss: 0.2182 - val_acc: 0.9210\n",
      "Epoch 15/40\n",
      "44974/44974 [==============================] - 147s 3ms/step - loss: 0.1729 - acc: 0.9323 - val_loss: 0.2186 - val_acc: 0.9208\n",
      "Epoch 16/40\n",
      "44974/44974 [==============================] - 151s 3ms/step - loss: 0.1646 - acc: 0.9358 - val_loss: 0.2048 - val_acc: 0.9244\n",
      "Epoch 17/40\n",
      "44974/44974 [==============================] - 151s 3ms/step - loss: 0.1527 - acc: 0.9399 - val_loss: 0.2043 - val_acc: 0.9264\n",
      "Epoch 18/40\n",
      "44974/44974 [==============================] - 151s 3ms/step - loss: 0.1481 - acc: 0.9426 - val_loss: 0.2006 - val_acc: 0.9282\n",
      "Epoch 19/40\n",
      "44974/44974 [==============================] - 151s 3ms/step - loss: 0.1375 - acc: 0.9464 - val_loss: 0.1889 - val_acc: 0.9316\n",
      "Epoch 20/40\n",
      "44974/44974 [==============================] - 151s 3ms/step - loss: 0.1271 - acc: 0.9506 - val_loss: 0.1841 - val_acc: 0.9360\n",
      "Epoch 21/40\n",
      "44974/44974 [==============================] - 152s 3ms/step - loss: 0.1257 - acc: 0.9509 - val_loss: 0.1796 - val_acc: 0.9378\n",
      "Epoch 22/40\n",
      "44974/44974 [==============================] - 153s 3ms/step - loss: 0.1197 - acc: 0.9538 - val_loss: 0.1830 - val_acc: 0.9364\n",
      "Epoch 23/40\n",
      "44974/44974 [==============================] - 151s 3ms/step - loss: 0.1135 - acc: 0.9550 - val_loss: 0.1802 - val_acc: 0.9386\n",
      "Epoch 24/40\n",
      "44974/44974 [==============================] - 153s 3ms/step - loss: 0.1077 - acc: 0.9591 - val_loss: 0.1797 - val_acc: 0.9392\n",
      "Epoch 25/40\n",
      "44974/44974 [==============================] - 142s 3ms/step - loss: 0.1034 - acc: 0.9604 - val_loss: 0.1811 - val_acc: 0.9386\n",
      "Epoch 26/40\n",
      "44974/44974 [==============================] - 142s 3ms/step - loss: 0.1082 - acc: 0.9581 - val_loss: 0.1770 - val_acc: 0.9400\n",
      "Epoch 27/40\n",
      "44974/44974 [==============================] - 145s 3ms/step - loss: 0.0943 - acc: 0.9639 - val_loss: 0.1658 - val_acc: 0.9474\n",
      "Epoch 28/40\n",
      "44974/44974 [==============================] - 145s 3ms/step - loss: 0.0925 - acc: 0.9649 - val_loss: 0.1620 - val_acc: 0.9460\n",
      "Epoch 29/40\n",
      "44974/44974 [==============================] - 146s 3ms/step - loss: 0.0835 - acc: 0.9684 - val_loss: 0.1670 - val_acc: 0.9502\n",
      "Epoch 30/40\n",
      "44974/44974 [==============================] - 146s 3ms/step - loss: 0.0813 - acc: 0.9686 - val_loss: 0.1681 - val_acc: 0.9478\n",
      "Epoch 31/40\n",
      "44974/44974 [==============================] - 146s 3ms/step - loss: 0.0786 - acc: 0.9698 - val_loss: 0.1705 - val_acc: 0.9460\n",
      "Epoch 32/40\n",
      "44974/44974 [==============================] - 150s 3ms/step - loss: 0.0751 - acc: 0.9720 - val_loss: 0.1724 - val_acc: 0.9486\n",
      "Epoch 33/40\n",
      "44974/44974 [==============================] - 148s 3ms/step - loss: 0.0749 - acc: 0.9721 - val_loss: 0.1740 - val_acc: 0.9452\n",
      "Epoch 34/40\n",
      "44974/44974 [==============================] - 147s 3ms/step - loss: 0.0680 - acc: 0.9746 - val_loss: 0.1673 - val_acc: 0.9472\n",
      "Epoch 35/40\n",
      "44974/44974 [==============================] - 151s 3ms/step - loss: 0.0701 - acc: 0.9735 - val_loss: 0.1627 - val_acc: 0.9534\n",
      "Epoch 36/40\n",
      "44974/44974 [==============================] - 159s 4ms/step - loss: 0.0628 - acc: 0.9768 - val_loss: 0.1679 - val_acc: 0.9548\n",
      "Epoch 37/40\n",
      "44974/44974 [==============================] - 142s 3ms/step - loss: 0.0590 - acc: 0.9783 - val_loss: 0.1632 - val_acc: 0.9546\n",
      "Epoch 38/40\n",
      "44974/44974 [==============================] - 150s 3ms/step - loss: 0.0592 - acc: 0.9779 - val_loss: 0.1657 - val_acc: 0.9524\n",
      "Epoch 39/40\n",
      "44974/44974 [==============================] - 132s 3ms/step - loss: 0.0552 - acc: 0.9796 - val_loss: 0.1674 - val_acc: 0.9540\n",
      "Epoch 40/40\n",
      "44974/44974 [==============================] - 133s 3ms/step - loss: 0.0530 - acc: 0.9809 - val_loss: 0.1685 - val_acc: 0.9538\n"
     ]
    }
   ],
   "source": [
    "model = Model(inputs=[ headline_sequence_input,article_sequence_input], outputs=preds)\n",
    "optimizer = optimizers.Adam(lr=0.001)  \n",
    "\n",
    "model.compile(optimizer = optimizer,\n",
    "              loss='categorical_crossentropy',\n",
    "              metrics=['accuracy' ])\n",
    "\n",
    "filepath=\"./checkpoint/LSTM with conditional encoding and attention_{epoch:02d}_{val_acc:.4f}.h5\"\n",
    "checkpoint = callbacks.ModelCheckpoint(filepath, \n",
    "                                       monitor='val_acc', \n",
    "                                       verbose=0, \n",
    "                                       save_best_only=True)\n",
    "\n",
    "callbacks_list = [checkpoint]\n",
    "\n",
    "history = model.fit([X_train_HEAD, X_train_BODY], y_train, validation_data = ([ X_valid_HEAD,X_valid_BODY], y_valid), batch_size=BATCH_SIZE, epochs=N_EPOCHS,callbacks = callbacks_list)"
   ]
  },
  {
   "cell_type": "code",
   "execution_count": 37,
   "metadata": {},
   "outputs": [],
   "source": [
    "with open('./history/history(LSTM_with conditional encoding and attention_training)', 'wb') as f:\n",
    "        pickle.dump(history.history, f)"
   ]
  },
  {
   "cell_type": "code",
   "execution_count": 38,
   "metadata": {},
   "outputs": [
    {
     "data": {
      "text/plain": [
       "<matplotlib.legend.Legend at 0x23b92ea81d0>"
      ]
     },
     "execution_count": 38,
     "metadata": {},
     "output_type": "execute_result"
    },
    {
     "data": {
      "image/png": "[encoded data removed]",
      "text/plain": [
       "<Figure size 432x288 with 1 Axes>"
      ]
     },
     "metadata": {
      "needs_background": "light"
     },
     "output_type": "display_data"
    }
   ],
   "source": [
    "plt.plot(history.history['acc'])\n",
    "plt.plot(history.history['val_acc'])\n",
    "plt.title('Conditional Model Accuracy(Truncation: 150 Epoch: 20 Lr:0.002)')\n",
    "plt.ylabel('Accuracy')\n",
    "plt.xlabel('Epoch')\n",
    "plt.legend(['train', 'test'], loc='upper left')"
   ]
  },
  {
   "cell_type": "code",
   "execution_count": 39,
   "metadata": {},
   "outputs": [
    {
     "name": "stdout",
     "output_type": "stream",
     "text": [
      "25413/25413 [==============================] - 27s 1ms/step\n"
     ]
    },
    {
     "data": {
      "text/plain": [
       "0.6857513870868159"
      ]
     },
     "execution_count": 39,
     "metadata": {},
     "output_type": "execute_result"
    }
   ],
   "source": [
    "score, acc = model.evaluate([X_test_HEAD,X_test_BODY], y_test, batch_size=BATCH_SIZE)\n",
    "acc"
   ]
  },
  {
   "cell_type": "code",
   "execution_count": 40,
   "metadata": {},
   "outputs": [
    {
     "data": {
      "image/png": "[encoded data removed]",
      "text/plain": [
       "<Figure size 432x288 with 1 Axes>"
      ]
     },
     "metadata": {
      "needs_background": "light"
     },
     "output_type": "display_data"
    }
   ],
   "source": [
    "plt.plot(history.history['loss'])\n",
    "plt.plot(history.history['val_loss'])\n",
    "plt.title('Model loss')\n",
    "plt.ylabel('Loss')\n",
    "plt.xlabel('Epoch')\n",
    "plt.legend(['Train', 'Test'], loc='upper left')\n",
    "plt.show()"
   ]
  },
  {
   "cell_type": "markdown",
   "metadata": {},
   "source": [
    "# Prediction"
   ]
  },
  {
   "cell_type": "code",
   "execution_count": 89,
   "metadata": {},
   "outputs": [
    {
     "name": "stdout",
     "output_type": "stream",
     "text": [
      "Y_states (?, 15, 100)\n",
      "h_state (?, 100)\n"
     ]
    }
   ],
   "source": [
    "# Load the best trained model with highest accuracy\n",
    "from keras import models\n",
    "model_file_path = './checkpoint/LSTM with conditional encoding and attention_36_0.9548.h5'\n",
    "model = models.load_model(model_file_path,custom_objects = {'Attention': Attention()})"
   ]
  },
  {
   "cell_type": "code",
   "execution_count": 90,
   "metadata": {},
   "outputs": [],
   "source": [
    "prediction = model.predict([X_test_HEAD,X_test_BODY])"
   ]
  },
  {
   "cell_type": "code",
   "execution_count": 91,
   "metadata": {},
   "outputs": [],
   "source": [
    "preds = [np.argmax(p, axis = -1) for p in prediction]"
   ]
  },
  {
   "cell_type": "code",
   "execution_count": 92,
   "metadata": {},
   "outputs": [],
   "source": [
    "actuals = [np.argmax(p, axis = -1) for p in y_test]"
   ]
  },
  {
   "cell_type": "code",
   "execution_count": 93,
   "metadata": {},
   "outputs": [],
   "source": [
    "for i in range(len(preds)):\n",
    "    if preds[i] == 0: preds[i] = \"unrelated\"\n",
    "    if preds[i] == 1: preds[i] = \"disagree\"\n",
    "    if preds[i] == 2: preds[i] = \"agree\"\n",
    "    if preds[i] == 3: preds[i] = \"discuss\"\n",
    "\n",
    "for i in range(len(actuals)):\n",
    "    if actuals[i] == 0: actuals[i] = \"unrelated\"\n",
    "    if actuals[i] == 1: actuals[i] = \"disagree\"\n",
    "    if actuals[i] == 2: actuals[i] = \"agree\"\n",
    "    if actuals[i] == 3: actuals[i] = \"discuss\"\n"
   ]
  },
  {
   "cell_type": "code",
   "execution_count": 94,
   "metadata": {},
   "outputs": [
    {
     "data": {
      "text/plain": [
       "list"
      ]
     },
     "execution_count": 94,
     "metadata": {},
     "output_type": "execute_result"
    }
   ],
   "source": [
    "type(preds)"
   ]
  },
  {
   "cell_type": "code",
   "execution_count": 95,
   "metadata": {},
   "outputs": [],
   "source": [
    "stance_list = preds\n",
    "bodyid_list = []\n",
    "headline_list = []"
   ]
  },
  {
   "cell_type": "code",
   "execution_count": 96,
   "metadata": {},
   "outputs": [
    {
     "data": {
      "text/html": [
       "<div>\n",
       "<style scoped>\n",
       "    .dataframe tbody tr th:only-of-type {\n",
       "        vertical-align: middle;\n",
       "    }\n",
       "\n",
       "    .dataframe tbody tr th {\n",
       "        vertical-align: top;\n",
       "    }\n",
       "\n",
       "    .dataframe thead th {\n",
       "        text-align: right;\n",
       "    }\n",
       "</style>\n",
       "<table border=\"1\" class=\"dataframe\">\n",
       "  <thead>\n",
       "    <tr style=\"text-align: right;\">\n",
       "      <th></th>\n",
       "      <th>Headline</th>\n",
       "      <th>Body ID</th>\n",
       "      <th>Stance</th>\n",
       "    </tr>\n",
       "  </thead>\n",
       "  <tbody>\n",
       "    <tr>\n",
       "      <th>0</th>\n",
       "      <td>Ferguson riots: Pregnant woman loses eye after...</td>\n",
       "      <td>2008</td>\n",
       "      <td>unrelated</td>\n",
       "    </tr>\n",
       "    <tr>\n",
       "      <th>1</th>\n",
       "      <td>Crazy Conservatives Are Sure a Gitmo Detainee ...</td>\n",
       "      <td>1550</td>\n",
       "      <td>unrelated</td>\n",
       "    </tr>\n",
       "    <tr>\n",
       "      <th>2</th>\n",
       "      <td>A Russian Guy Says His Justin Bieber Ringtone ...</td>\n",
       "      <td>2</td>\n",
       "      <td>unrelated</td>\n",
       "    </tr>\n",
       "    <tr>\n",
       "      <th>3</th>\n",
       "      <td>Zombie Cat: Buried Kitty Believed Dead, Meows ...</td>\n",
       "      <td>1793</td>\n",
       "      <td>unrelated</td>\n",
       "    </tr>\n",
       "    <tr>\n",
       "      <th>4</th>\n",
       "      <td>Argentina's President Adopts Boy to End Werewo...</td>\n",
       "      <td>37</td>\n",
       "      <td>unrelated</td>\n",
       "    </tr>\n",
       "    <tr>\n",
       "      <th>5</th>\n",
       "      <td>Next-generation Apple iPhones' features leaked</td>\n",
       "      <td>2353</td>\n",
       "      <td>unrelated</td>\n",
       "    </tr>\n",
       "    <tr>\n",
       "      <th>6</th>\n",
       "      <td>Saudi national airline may introduce gender se...</td>\n",
       "      <td>192</td>\n",
       "      <td>unrelated</td>\n",
       "    </tr>\n",
       "    <tr>\n",
       "      <th>7</th>\n",
       "      <td>'Zombie Cat' Claws Way Out Of Grave And Into O...</td>\n",
       "      <td>2482</td>\n",
       "      <td>unrelated</td>\n",
       "    </tr>\n",
       "    <tr>\n",
       "      <th>8</th>\n",
       "      <td>ISIS might be harvesting organs, Iraq tells UN</td>\n",
       "      <td>250</td>\n",
       "      <td>unrelated</td>\n",
       "    </tr>\n",
       "    <tr>\n",
       "      <th>9</th>\n",
       "      <td>Woman has surgery to get third breast: The thr...</td>\n",
       "      <td>85</td>\n",
       "      <td>unrelated</td>\n",
       "    </tr>\n",
       "  </tbody>\n",
       "</table>\n",
       "</div>"
      ],
      "text/plain": [
       "                                            Headline  Body ID     Stance\n",
       "0  Ferguson riots: Pregnant woman loses eye after...     2008  unrelated\n",
       "1  Crazy Conservatives Are Sure a Gitmo Detainee ...     1550  unrelated\n",
       "2  A Russian Guy Says His Justin Bieber Ringtone ...        2  unrelated\n",
       "3  Zombie Cat: Buried Kitty Believed Dead, Meows ...     1793  unrelated\n",
       "4  Argentina's President Adopts Boy to End Werewo...       37  unrelated\n",
       "5     Next-generation Apple iPhones' features leaked     2353  unrelated\n",
       "6  Saudi national airline may introduce gender se...      192  unrelated\n",
       "7  'Zombie Cat' Claws Way Out Of Grave And Into O...     2482  unrelated\n",
       "8     ISIS might be harvesting organs, Iraq tells UN      250  unrelated\n",
       "9  Woman has surgery to get third breast: The thr...       85  unrelated"
      ]
     },
     "execution_count": 96,
     "metadata": {},
     "output_type": "execute_result"
    }
   ],
   "source": [
    "test_df_original = pd.read_csv(DATA_DIR + '/competition_test_stances.csv')\n",
    "test_df_original.head(10)"
   ]
  },
  {
   "cell_type": "code",
   "execution_count": 97,
   "metadata": {},
   "outputs": [],
   "source": [
    "# save the csv file for submission\n",
    "for i in range(len(test_df_original.Stance)):\n",
    "    bodyid_list.append(test_df_original['Body ID'][i])\n",
    "    headline_list.append(test_df_original.Headline[i])\n",
    "   \n",
    "df = pd.DataFrame(data={'Headline': headline_list, 'Body ID': bodyid_list, \"Stance\": stance_list})\n",
    "df.to_csv(\"bidirectional_LSTM_attention_conditional_encoding_submission.csv\")"
   ]
  },
  {
   "cell_type": "code",
   "execution_count": null,
   "metadata": {},
   "outputs": [],
   "source": []
  }
 ],
 "metadata": {
  "kernelspec": {
   "display_name": "Python 3",
   "language": "python",
   "name": "python3"
  },
  "language_info": {
   "codemirror_mode": {
    "name": "ipython",
    "version": 3
   },
   "file_extension": ".py",
   "mimetype": "text/x-python",
   "name": "python",
   "nbconvert_exporter": "python",
   "pygments_lexer": "ipython3",
   "version": "3.7.1"
  }
 },
 "nbformat": 4,
 "nbformat_minor": 2
}
