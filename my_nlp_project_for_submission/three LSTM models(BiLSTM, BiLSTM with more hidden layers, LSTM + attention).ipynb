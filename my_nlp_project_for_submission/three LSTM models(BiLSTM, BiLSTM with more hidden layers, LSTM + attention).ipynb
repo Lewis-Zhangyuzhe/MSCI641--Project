{
 "cells": [
  {
   "cell_type": "code",
   "execution_count": 2,
   "metadata": {},
   "outputs": [
    {
     "name": "stderr",
     "output_type": "stream",
     "text": [
      "D:\\Anaconda3\\lib\\site-packages\\gensim\\utils.py:1197: UserWarning: detected Windows; aliasing chunkize to chunkize_serial\n",
      "  warnings.warn(\"detected Windows; aliasing chunkize to chunkize_serial\")\n",
      "Using TensorFlow backend.\n"
     ]
    }
   ],
   "source": [
    "import gensim\n",
    "import numpy as np\n",
    "import pandas as pd\n",
    "import os\n",
    "import re\n",
    "import csv\n",
    "import codecs\n",
    "import sys\n",
    "import pickle\n",
    "import numpy as np\n",
    "from gensim.scripts.glove2word2vec import glove2word2vec\n",
    "from gensim.models import KeyedVectors\n",
    "from sklearn.model_selection import train_test_split\n",
    "\n",
    "from keras import callbacks\n",
    "from keras import optimizers\n",
    "from keras.models import Sequential, Model\n",
    "from keras.layers import Input, Dense, LSTM, Embedding, Dropout, BatchNormalization, Activation, Bidirectional\n",
    "from keras.layers.merge import concatenate\n",
    "from keras.layers.normalization import BatchNormalization\n",
    "from keras.preprocessing.text import text_to_word_sequence, Tokenizer\n",
    "from keras.preprocessing.sequence import pad_sequences\n",
    "\n",
    "import matplotlib as mpl\n",
    "%matplotlib inline\n",
    "from matplotlib import pyplot as plt\n",
    "from keras.utils import plot_model \n",
    "from IPython.display import Image\n",
    "import pydot\n",
    "from sklearn.preprocessing import LabelEncoder\n",
    "from keras.utils import np_utils\n",
    "import tensorflow as tf\n",
    "\n",
    "\n",
    "from nltk.corpus import stopwords\n",
    "from nltk.stem import SnowballStemmer\n",
    "\n",
    "from string import punctuation\n",
    "\n",
    "from keras import backend as K\n",
    "from keras.engine.topology import Layer\n",
    "#from keras import initializations\n",
    "from keras import initializers, regularizers, constraints\n",
    "\n",
    "tf_gpu_options = tf.GPUOptions(allow_growth = True) # per_process_gpu_memory_fraction=0.12,\n",
    "tf_session = tf.Session(config=tf.ConfigProto(gpu_options=tf_gpu_options))\n",
    "tf.keras.backend.set_session(tf_session)\n"
   ]
  },
  {
   "cell_type": "code",
   "execution_count": null,
   "metadata": {},
   "outputs": [],
   "source": [
    "!curl -L http://nlp.stanford.edu/data/glove.twitter.27B.zip --output glove.twitter.27B.zip"
   ]
  },
  {
   "cell_type": "code",
   "execution_count": null,
   "metadata": {},
   "outputs": [],
   "source": [
    "!unzip glove.twitter.27B.zip"
   ]
  },
  {
   "cell_type": "code",
   "execution_count": 3,
   "metadata": {},
   "outputs": [],
   "source": [
    "GloVe_DIR = 'glove.twitter.27B.50d.txt'\n",
    "DATA_DIR = './data'"
   ]
  },
  {
   "cell_type": "code",
   "execution_count": 4,
   "metadata": {},
   "outputs": [],
   "source": [
    "# hyperparameter\n",
    "MAX_SENT_LEN = 128\n",
    "MAX_VOCAB_SIZE = 30000\n",
    "LSTM_DIM = 100\n",
    "EMBEDDING_DIM = 50\n",
    "BATCH_SIZE = 128\n",
    "N_EPOCHS = 40"
   ]
  },
  {
   "cell_type": "code",
   "execution_count": 5,
   "metadata": {},
   "outputs": [],
   "source": [
    "# fix random seed for reproducibility\n",
    "seed = 1\n",
    "np.random.seed(seed)"
   ]
  },
  {
   "cell_type": "code",
   "execution_count": 6,
   "metadata": {},
   "outputs": [
    {
     "data": {
      "text/html": [
       "<div>\n",
       "<style scoped>\n",
       "    .dataframe tbody tr th:only-of-type {\n",
       "        vertical-align: middle;\n",
       "    }\n",
       "\n",
       "    .dataframe tbody tr th {\n",
       "        vertical-align: top;\n",
       "    }\n",
       "\n",
       "    .dataframe thead th {\n",
       "        text-align: right;\n",
       "    }\n",
       "</style>\n",
       "<table border=\"1\" class=\"dataframe\">\n",
       "  <thead>\n",
       "    <tr style=\"text-align: right;\">\n",
       "      <th></th>\n",
       "      <th>Body ID</th>\n",
       "      <th>articleBody</th>\n",
       "    </tr>\n",
       "  </thead>\n",
       "  <tbody>\n",
       "    <tr>\n",
       "      <th>0</th>\n",
       "      <td>1</td>\n",
       "      <td>Al-Sisi has denied Israeli reports stating tha...</td>\n",
       "    </tr>\n",
       "    <tr>\n",
       "      <th>1</th>\n",
       "      <td>2</td>\n",
       "      <td>A bereaved Afghan mother took revenge on the T...</td>\n",
       "    </tr>\n",
       "    <tr>\n",
       "      <th>2</th>\n",
       "      <td>3</td>\n",
       "      <td>CNBC is reporting Tesla has chosen Nevada as t...</td>\n",
       "    </tr>\n",
       "    <tr>\n",
       "      <th>3</th>\n",
       "      <td>12</td>\n",
       "      <td>A 4-inch version of the iPhone 6 is said to be...</td>\n",
       "    </tr>\n",
       "    <tr>\n",
       "      <th>4</th>\n",
       "      <td>19</td>\n",
       "      <td>GR editor’s Note\\n\\nThere are no reports in th...</td>\n",
       "    </tr>\n",
       "    <tr>\n",
       "      <th>5</th>\n",
       "      <td>20</td>\n",
       "      <td>“I once sent Tim an email about the quality of...</td>\n",
       "    </tr>\n",
       "    <tr>\n",
       "      <th>6</th>\n",
       "      <td>21</td>\n",
       "      <td>Absolutely no one was devastated when news bro...</td>\n",
       "    </tr>\n",
       "    <tr>\n",
       "      <th>7</th>\n",
       "      <td>28</td>\n",
       "      <td>In designing its first wearable device in the ...</td>\n",
       "    </tr>\n",
       "    <tr>\n",
       "      <th>8</th>\n",
       "      <td>31</td>\n",
       "      <td>The picture of a possible \"Crabzilla\" measurin...</td>\n",
       "    </tr>\n",
       "    <tr>\n",
       "      <th>9</th>\n",
       "      <td>33</td>\n",
       "      <td>Early Tuesday morning, Dornella Conner was “ri...</td>\n",
       "    </tr>\n",
       "  </tbody>\n",
       "</table>\n",
       "</div>"
      ],
      "text/plain": [
       "   Body ID                                        articleBody\n",
       "0        1  Al-Sisi has denied Israeli reports stating tha...\n",
       "1        2  A bereaved Afghan mother took revenge on the T...\n",
       "2        3  CNBC is reporting Tesla has chosen Nevada as t...\n",
       "3       12  A 4-inch version of the iPhone 6 is said to be...\n",
       "4       19  GR editor’s Note\\n\\nThere are no reports in th...\n",
       "5       20  “I once sent Tim an email about the quality of...\n",
       "6       21  Absolutely no one was devastated when news bro...\n",
       "7       28  In designing its first wearable device in the ...\n",
       "8       31  The picture of a possible \"Crabzilla\" measurin...\n",
       "9       33  Early Tuesday morning, Dornella Conner was “ri..."
      ]
     },
     "execution_count": 6,
     "metadata": {},
     "output_type": "execute_result"
    }
   ],
   "source": [
    "train_bodies = pd.read_csv('./data/train_bodies.csv')\n",
    "train_bodies.head(10)\n",
    "test_bodies = pd.read_csv('./data/competition_test_bodies.csv')\n",
    "test_bodies.head(10)"
   ]
  },
  {
   "cell_type": "code",
   "execution_count": 7,
   "metadata": {},
   "outputs": [],
   "source": [
    "# load training data\n",
    "train_df = pd.read_csv(DATA_DIR + '/train_stances.csv')\n",
    "# load testing data\n",
    "test_df = pd.read_csv(DATA_DIR + '/competition_test_stances.csv')"
   ]
  },
  {
   "cell_type": "code",
   "execution_count": 8,
   "metadata": {},
   "outputs": [
    {
     "data": {
      "text/html": [
       "<div>\n",
       "<style scoped>\n",
       "    .dataframe tbody tr th:only-of-type {\n",
       "        vertical-align: middle;\n",
       "    }\n",
       "\n",
       "    .dataframe tbody tr th {\n",
       "        vertical-align: top;\n",
       "    }\n",
       "\n",
       "    .dataframe thead th {\n",
       "        text-align: right;\n",
       "    }\n",
       "</style>\n",
       "<table border=\"1\" class=\"dataframe\">\n",
       "  <thead>\n",
       "    <tr style=\"text-align: right;\">\n",
       "      <th></th>\n",
       "      <th>Headline</th>\n",
       "      <th>Body ID</th>\n",
       "      <th>Stance</th>\n",
       "    </tr>\n",
       "  </thead>\n",
       "  <tbody>\n",
       "    <tr>\n",
       "      <th>0</th>\n",
       "      <td>Ferguson riots: Pregnant woman loses eye after...</td>\n",
       "      <td>2008</td>\n",
       "      <td>unrelated</td>\n",
       "    </tr>\n",
       "    <tr>\n",
       "      <th>1</th>\n",
       "      <td>Crazy Conservatives Are Sure a Gitmo Detainee ...</td>\n",
       "      <td>1550</td>\n",
       "      <td>unrelated</td>\n",
       "    </tr>\n",
       "    <tr>\n",
       "      <th>2</th>\n",
       "      <td>A Russian Guy Says His Justin Bieber Ringtone ...</td>\n",
       "      <td>2</td>\n",
       "      <td>unrelated</td>\n",
       "    </tr>\n",
       "    <tr>\n",
       "      <th>3</th>\n",
       "      <td>Zombie Cat: Buried Kitty Believed Dead, Meows ...</td>\n",
       "      <td>1793</td>\n",
       "      <td>unrelated</td>\n",
       "    </tr>\n",
       "    <tr>\n",
       "      <th>4</th>\n",
       "      <td>Argentina's President Adopts Boy to End Werewo...</td>\n",
       "      <td>37</td>\n",
       "      <td>unrelated</td>\n",
       "    </tr>\n",
       "    <tr>\n",
       "      <th>5</th>\n",
       "      <td>Next-generation Apple iPhones' features leaked</td>\n",
       "      <td>2353</td>\n",
       "      <td>unrelated</td>\n",
       "    </tr>\n",
       "    <tr>\n",
       "      <th>6</th>\n",
       "      <td>Saudi national airline may introduce gender se...</td>\n",
       "      <td>192</td>\n",
       "      <td>unrelated</td>\n",
       "    </tr>\n",
       "    <tr>\n",
       "      <th>7</th>\n",
       "      <td>'Zombie Cat' Claws Way Out Of Grave And Into O...</td>\n",
       "      <td>2482</td>\n",
       "      <td>unrelated</td>\n",
       "    </tr>\n",
       "    <tr>\n",
       "      <th>8</th>\n",
       "      <td>ISIS might be harvesting organs, Iraq tells UN</td>\n",
       "      <td>250</td>\n",
       "      <td>unrelated</td>\n",
       "    </tr>\n",
       "    <tr>\n",
       "      <th>9</th>\n",
       "      <td>Woman has surgery to get third breast: The thr...</td>\n",
       "      <td>85</td>\n",
       "      <td>unrelated</td>\n",
       "    </tr>\n",
       "  </tbody>\n",
       "</table>\n",
       "</div>"
      ],
      "text/plain": [
       "                                            Headline  Body ID     Stance\n",
       "0  Ferguson riots: Pregnant woman loses eye after...     2008  unrelated\n",
       "1  Crazy Conservatives Are Sure a Gitmo Detainee ...     1550  unrelated\n",
       "2  A Russian Guy Says His Justin Bieber Ringtone ...        2  unrelated\n",
       "3  Zombie Cat: Buried Kitty Believed Dead, Meows ...     1793  unrelated\n",
       "4  Argentina's President Adopts Boy to End Werewo...       37  unrelated\n",
       "5     Next-generation Apple iPhones' features leaked     2353  unrelated\n",
       "6  Saudi national airline may introduce gender se...      192  unrelated\n",
       "7  'Zombie Cat' Claws Way Out Of Grave And Into O...     2482  unrelated\n",
       "8     ISIS might be harvesting organs, Iraq tells UN      250  unrelated\n",
       "9  Woman has surgery to get third breast: The thr...       85  unrelated"
      ]
     },
     "execution_count": 8,
     "metadata": {},
     "output_type": "execute_result"
    }
   ],
   "source": [
    "test_df.head(10)"
   ]
  },
  {
   "cell_type": "code",
   "execution_count": 9,
   "metadata": {},
   "outputs": [],
   "source": [
    "# numeralize the stance label\n",
    "train_df.replace('unrelated',1,True)\n",
    "train_df.replace('agree',2,True)\n",
    "train_df.replace('disagree',3,True)\n",
    "train_df.replace('discuss',4,True)\n",
    "\n",
    "test_df.replace('unrelated',1,True)\n",
    "test_df.replace('agree',2,True)\n",
    "test_df.replace('disagree',3,True)\n",
    "test_df.replace('discuss',4,True)"
   ]
  },
  {
   "cell_type": "code",
   "execution_count": 10,
   "metadata": {},
   "outputs": [
    {
     "data": {
      "text/html": [
       "<div>\n",
       "<style scoped>\n",
       "    .dataframe tbody tr th:only-of-type {\n",
       "        vertical-align: middle;\n",
       "    }\n",
       "\n",
       "    .dataframe tbody tr th {\n",
       "        vertical-align: top;\n",
       "    }\n",
       "\n",
       "    .dataframe thead th {\n",
       "        text-align: right;\n",
       "    }\n",
       "</style>\n",
       "<table border=\"1\" class=\"dataframe\">\n",
       "  <thead>\n",
       "    <tr style=\"text-align: right;\">\n",
       "      <th></th>\n",
       "      <th>Headline</th>\n",
       "      <th>Body ID</th>\n",
       "      <th>Stance</th>\n",
       "    </tr>\n",
       "  </thead>\n",
       "  <tbody>\n",
       "    <tr>\n",
       "      <th>0</th>\n",
       "      <td>Police find mass graves with at least '15 bodi...</td>\n",
       "      <td>712</td>\n",
       "      <td>1</td>\n",
       "    </tr>\n",
       "    <tr>\n",
       "      <th>1</th>\n",
       "      <td>Hundreds of Palestinians flee floods in Gaza a...</td>\n",
       "      <td>158</td>\n",
       "      <td>2</td>\n",
       "    </tr>\n",
       "    <tr>\n",
       "      <th>2</th>\n",
       "      <td>Christian Bale passes on role of Steve Jobs, a...</td>\n",
       "      <td>137</td>\n",
       "      <td>1</td>\n",
       "    </tr>\n",
       "    <tr>\n",
       "      <th>3</th>\n",
       "      <td>HBO and Apple in Talks for $15/Month Apple TV ...</td>\n",
       "      <td>1034</td>\n",
       "      <td>1</td>\n",
       "    </tr>\n",
       "    <tr>\n",
       "      <th>4</th>\n",
       "      <td>Spider burrowed through tourist's stomach and ...</td>\n",
       "      <td>1923</td>\n",
       "      <td>3</td>\n",
       "    </tr>\n",
       "    <tr>\n",
       "      <th>5</th>\n",
       "      <td>'Nasa Confirms Earth Will Experience 6 Days of...</td>\n",
       "      <td>154</td>\n",
       "      <td>2</td>\n",
       "    </tr>\n",
       "    <tr>\n",
       "      <th>6</th>\n",
       "      <td>Accused Boston Marathon Bomber Severely Injure...</td>\n",
       "      <td>962</td>\n",
       "      <td>1</td>\n",
       "    </tr>\n",
       "    <tr>\n",
       "      <th>7</th>\n",
       "      <td>Identity of ISIS terrorist known as 'Jihadi Jo...</td>\n",
       "      <td>2033</td>\n",
       "      <td>1</td>\n",
       "    </tr>\n",
       "    <tr>\n",
       "      <th>8</th>\n",
       "      <td>Banksy 'Arrested &amp; Real Identity Revealed' Is ...</td>\n",
       "      <td>1739</td>\n",
       "      <td>2</td>\n",
       "    </tr>\n",
       "    <tr>\n",
       "      <th>9</th>\n",
       "      <td>British Aid Worker Confirmed Murdered By ISIS</td>\n",
       "      <td>882</td>\n",
       "      <td>1</td>\n",
       "    </tr>\n",
       "  </tbody>\n",
       "</table>\n",
       "</div>"
      ],
      "text/plain": [
       "                                            Headline  Body ID  Stance\n",
       "0  Police find mass graves with at least '15 bodi...      712       1\n",
       "1  Hundreds of Palestinians flee floods in Gaza a...      158       2\n",
       "2  Christian Bale passes on role of Steve Jobs, a...      137       1\n",
       "3  HBO and Apple in Talks for $15/Month Apple TV ...     1034       1\n",
       "4  Spider burrowed through tourist's stomach and ...     1923       3\n",
       "5  'Nasa Confirms Earth Will Experience 6 Days of...      154       2\n",
       "6  Accused Boston Marathon Bomber Severely Injure...      962       1\n",
       "7  Identity of ISIS terrorist known as 'Jihadi Jo...     2033       1\n",
       "8  Banksy 'Arrested & Real Identity Revealed' Is ...     1739       2\n",
       "9      British Aid Worker Confirmed Murdered By ISIS      882       1"
      ]
     },
     "execution_count": 10,
     "metadata": {},
     "output_type": "execute_result"
    }
   ],
   "source": [
    "train_df.head(10)"
   ]
  },
  {
   "cell_type": "code",
   "execution_count": 11,
   "metadata": {},
   "outputs": [],
   "source": [
    "combine_df_train = train_df.join(train_bodies.set_index('Body ID'), on='Body ID')\n",
    "combine_df_test = test_df.join(test_bodies.set_index('Body ID'), on='Body ID')"
   ]
  },
  {
   "cell_type": "code",
   "execution_count": 12,
   "metadata": {},
   "outputs": [
    {
     "data": {
      "text/html": [
       "<div>\n",
       "<style scoped>\n",
       "    .dataframe tbody tr th:only-of-type {\n",
       "        vertical-align: middle;\n",
       "    }\n",
       "\n",
       "    .dataframe tbody tr th {\n",
       "        vertical-align: top;\n",
       "    }\n",
       "\n",
       "    .dataframe thead th {\n",
       "        text-align: right;\n",
       "    }\n",
       "</style>\n",
       "<table border=\"1\" class=\"dataframe\">\n",
       "  <thead>\n",
       "    <tr style=\"text-align: right;\">\n",
       "      <th></th>\n",
       "      <th>Headline</th>\n",
       "      <th>Body ID</th>\n",
       "      <th>Stance</th>\n",
       "      <th>articleBody</th>\n",
       "    </tr>\n",
       "  </thead>\n",
       "  <tbody>\n",
       "    <tr>\n",
       "      <th>0</th>\n",
       "      <td>Ferguson riots: Pregnant woman loses eye after...</td>\n",
       "      <td>2008</td>\n",
       "      <td>1</td>\n",
       "      <td>A RESPECTED senior French police officer inves...</td>\n",
       "    </tr>\n",
       "    <tr>\n",
       "      <th>1</th>\n",
       "      <td>Crazy Conservatives Are Sure a Gitmo Detainee ...</td>\n",
       "      <td>1550</td>\n",
       "      <td>1</td>\n",
       "      <td>Dave Morin's social networking company Path is...</td>\n",
       "    </tr>\n",
       "    <tr>\n",
       "      <th>2</th>\n",
       "      <td>A Russian Guy Says His Justin Bieber Ringtone ...</td>\n",
       "      <td>2</td>\n",
       "      <td>1</td>\n",
       "      <td>A bereaved Afghan mother took revenge on the T...</td>\n",
       "    </tr>\n",
       "    <tr>\n",
       "      <th>3</th>\n",
       "      <td>Zombie Cat: Buried Kitty Believed Dead, Meows ...</td>\n",
       "      <td>1793</td>\n",
       "      <td>1</td>\n",
       "      <td>Hewlett-Packard is officially splitting in two...</td>\n",
       "    </tr>\n",
       "    <tr>\n",
       "      <th>4</th>\n",
       "      <td>Argentina's President Adopts Boy to End Werewo...</td>\n",
       "      <td>37</td>\n",
       "      <td>1</td>\n",
       "      <td>An airline passenger headed to Dallas was remo...</td>\n",
       "    </tr>\n",
       "    <tr>\n",
       "      <th>5</th>\n",
       "      <td>Next-generation Apple iPhones' features leaked</td>\n",
       "      <td>2353</td>\n",
       "      <td>1</td>\n",
       "      <td>When faced with the choice of feasting on a fi...</td>\n",
       "    </tr>\n",
       "    <tr>\n",
       "      <th>6</th>\n",
       "      <td>Saudi national airline may introduce gender se...</td>\n",
       "      <td>192</td>\n",
       "      <td>1</td>\n",
       "      <td>The US declared the video of Sotloff to be aut...</td>\n",
       "    </tr>\n",
       "    <tr>\n",
       "      <th>7</th>\n",
       "      <td>'Zombie Cat' Claws Way Out Of Grave And Into O...</td>\n",
       "      <td>2482</td>\n",
       "      <td>1</td>\n",
       "      <td>19-year-old Iga Jasica of Poland began making ...</td>\n",
       "    </tr>\n",
       "    <tr>\n",
       "      <th>8</th>\n",
       "      <td>ISIS might be harvesting organs, Iraq tells UN</td>\n",
       "      <td>250</td>\n",
       "      <td>1</td>\n",
       "      <td>Michael Foley says the administration threaten...</td>\n",
       "    </tr>\n",
       "    <tr>\n",
       "      <th>9</th>\n",
       "      <td>Woman has surgery to get third breast: The thr...</td>\n",
       "      <td>85</td>\n",
       "      <td>1</td>\n",
       "      <td>Brian Stelter from CNN just reported that hack...</td>\n",
       "    </tr>\n",
       "  </tbody>\n",
       "</table>\n",
       "</div>"
      ],
      "text/plain": [
       "                                            Headline  Body ID  Stance  \\\n",
       "0  Ferguson riots: Pregnant woman loses eye after...     2008       1   \n",
       "1  Crazy Conservatives Are Sure a Gitmo Detainee ...     1550       1   \n",
       "2  A Russian Guy Says His Justin Bieber Ringtone ...        2       1   \n",
       "3  Zombie Cat: Buried Kitty Believed Dead, Meows ...     1793       1   \n",
       "4  Argentina's President Adopts Boy to End Werewo...       37       1   \n",
       "5     Next-generation Apple iPhones' features leaked     2353       1   \n",
       "6  Saudi national airline may introduce gender se...      192       1   \n",
       "7  'Zombie Cat' Claws Way Out Of Grave And Into O...     2482       1   \n",
       "8     ISIS might be harvesting organs, Iraq tells UN      250       1   \n",
       "9  Woman has surgery to get third breast: The thr...       85       1   \n",
       "\n",
       "                                         articleBody  \n",
       "0  A RESPECTED senior French police officer inves...  \n",
       "1  Dave Morin's social networking company Path is...  \n",
       "2  A bereaved Afghan mother took revenge on the T...  \n",
       "3  Hewlett-Packard is officially splitting in two...  \n",
       "4  An airline passenger headed to Dallas was remo...  \n",
       "5  When faced with the choice of feasting on a fi...  \n",
       "6  The US declared the video of Sotloff to be aut...  \n",
       "7  19-year-old Iga Jasica of Poland began making ...  \n",
       "8  Michael Foley says the administration threaten...  \n",
       "9  Brian Stelter from CNN just reported that hack...  "
      ]
     },
     "execution_count": 12,
     "metadata": {},
     "output_type": "execute_result"
    }
   ],
   "source": [
    "combine_df_test.head(10)"
   ]
  },
  {
   "cell_type": "code",
   "execution_count": 13,
   "metadata": {},
   "outputs": [
    {
     "data": {
      "text/html": [
       "<div>\n",
       "<style scoped>\n",
       "    .dataframe tbody tr th:only-of-type {\n",
       "        vertical-align: middle;\n",
       "    }\n",
       "\n",
       "    .dataframe tbody tr th {\n",
       "        vertical-align: top;\n",
       "    }\n",
       "\n",
       "    .dataframe thead th {\n",
       "        text-align: right;\n",
       "    }\n",
       "</style>\n",
       "<table border=\"1\" class=\"dataframe\">\n",
       "  <thead>\n",
       "    <tr style=\"text-align: right;\">\n",
       "      <th></th>\n",
       "      <th>Headline</th>\n",
       "      <th>Body ID</th>\n",
       "      <th>Stance</th>\n",
       "      <th>articleBody</th>\n",
       "    </tr>\n",
       "  </thead>\n",
       "  <tbody>\n",
       "    <tr>\n",
       "      <th>0</th>\n",
       "      <td>Police find mass graves with at least '15 bodi...</td>\n",
       "      <td>712</td>\n",
       "      <td>1</td>\n",
       "      <td>Danny Boyle is directing the untitled film\\n\\n...</td>\n",
       "    </tr>\n",
       "    <tr>\n",
       "      <th>1</th>\n",
       "      <td>Hundreds of Palestinians flee floods in Gaza a...</td>\n",
       "      <td>158</td>\n",
       "      <td>2</td>\n",
       "      <td>Hundreds of Palestinians were evacuated from t...</td>\n",
       "    </tr>\n",
       "    <tr>\n",
       "      <th>2</th>\n",
       "      <td>Christian Bale passes on role of Steve Jobs, a...</td>\n",
       "      <td>137</td>\n",
       "      <td>1</td>\n",
       "      <td>30-year-old Moscow resident was hospitalized w...</td>\n",
       "    </tr>\n",
       "    <tr>\n",
       "      <th>3</th>\n",
       "      <td>HBO and Apple in Talks for $15/Month Apple TV ...</td>\n",
       "      <td>1034</td>\n",
       "      <td>1</td>\n",
       "      <td>(Reuters) - A Canadian soldier was shot at the...</td>\n",
       "    </tr>\n",
       "    <tr>\n",
       "      <th>4</th>\n",
       "      <td>Spider burrowed through tourist's stomach and ...</td>\n",
       "      <td>1923</td>\n",
       "      <td>3</td>\n",
       "      <td>Fear not arachnophobes, the story of Bunbury's...</td>\n",
       "    </tr>\n",
       "    <tr>\n",
       "      <th>5</th>\n",
       "      <td>'Nasa Confirms Earth Will Experience 6 Days of...</td>\n",
       "      <td>154</td>\n",
       "      <td>2</td>\n",
       "      <td>Thousands of people have been duped by a fake ...</td>\n",
       "    </tr>\n",
       "    <tr>\n",
       "      <th>6</th>\n",
       "      <td>Accused Boston Marathon Bomber Severely Injure...</td>\n",
       "      <td>962</td>\n",
       "      <td>1</td>\n",
       "      <td>A British fighter who travelled to Iraq to sto...</td>\n",
       "    </tr>\n",
       "    <tr>\n",
       "      <th>7</th>\n",
       "      <td>Identity of ISIS terrorist known as 'Jihadi Jo...</td>\n",
       "      <td>2033</td>\n",
       "      <td>1</td>\n",
       "      <td>Adding to Apple's iOS 8 launch troubles, a rep...</td>\n",
       "    </tr>\n",
       "    <tr>\n",
       "      <th>8</th>\n",
       "      <td>Banksy 'Arrested &amp; Real Identity Revealed' Is ...</td>\n",
       "      <td>1739</td>\n",
       "      <td>2</td>\n",
       "      <td>If you’ve seen a story floating around on your...</td>\n",
       "    </tr>\n",
       "    <tr>\n",
       "      <th>9</th>\n",
       "      <td>British Aid Worker Confirmed Murdered By ISIS</td>\n",
       "      <td>882</td>\n",
       "      <td>1</td>\n",
       "      <td>The British Islamic State militant who has fea...</td>\n",
       "    </tr>\n",
       "  </tbody>\n",
       "</table>\n",
       "</div>"
      ],
      "text/plain": [
       "                                            Headline  Body ID  Stance  \\\n",
       "0  Police find mass graves with at least '15 bodi...      712       1   \n",
       "1  Hundreds of Palestinians flee floods in Gaza a...      158       2   \n",
       "2  Christian Bale passes on role of Steve Jobs, a...      137       1   \n",
       "3  HBO and Apple in Talks for $15/Month Apple TV ...     1034       1   \n",
       "4  Spider burrowed through tourist's stomach and ...     1923       3   \n",
       "5  'Nasa Confirms Earth Will Experience 6 Days of...      154       2   \n",
       "6  Accused Boston Marathon Bomber Severely Injure...      962       1   \n",
       "7  Identity of ISIS terrorist known as 'Jihadi Jo...     2033       1   \n",
       "8  Banksy 'Arrested & Real Identity Revealed' Is ...     1739       2   \n",
       "9      British Aid Worker Confirmed Murdered By ISIS      882       1   \n",
       "\n",
       "                                         articleBody  \n",
       "0  Danny Boyle is directing the untitled film\\n\\n...  \n",
       "1  Hundreds of Palestinians were evacuated from t...  \n",
       "2  30-year-old Moscow resident was hospitalized w...  \n",
       "3  (Reuters) - A Canadian soldier was shot at the...  \n",
       "4  Fear not arachnophobes, the story of Bunbury's...  \n",
       "5  Thousands of people have been duped by a fake ...  \n",
       "6  A British fighter who travelled to Iraq to sto...  \n",
       "7  Adding to Apple's iOS 8 launch troubles, a rep...  \n",
       "8  If you’ve seen a story floating around on your...  \n",
       "9  The British Islamic State militant who has fea...  "
      ]
     },
     "execution_count": 13,
     "metadata": {},
     "output_type": "execute_result"
    }
   ],
   "source": [
    "combine_df_train.head(10)"
   ]
  },
  {
   "cell_type": "code",
   "execution_count": 14,
   "metadata": {
    "scrolled": true
   },
   "outputs": [],
   "source": [
    "# text to wordsequence\n",
    "word_seq_head_train = [text_to_word_sequence(head) for head in combine_df_train['Headline']]\n",
    "word_seq_bodies_train = [text_to_word_sequence(body) for body in combine_df_train['articleBody']]\n",
    "\n",
    "word_seq_head_test = [text_to_word_sequence(head) for head in combine_df_test['Headline']]\n",
    "word_seq_bodies_test = [text_to_word_sequence(body) for body in combine_df_test['articleBody']]"
   ]
  },
  {
   "cell_type": "code",
   "execution_count": 15,
   "metadata": {},
   "outputs": [
    {
     "name": "stdout",
     "output_type": "stream",
     "text": [
      "90th Percentile Sentence of headline: 16.0\n"
     ]
    }
   ],
   "source": [
    "print('90th Percentile Sentence of headline:', np.percentile([len(seq) for seq in word_seq_head_train], 90))"
   ]
  },
  {
   "cell_type": "code",
   "execution_count": 16,
   "metadata": {},
   "outputs": [
    {
     "name": "stdout",
     "output_type": "stream",
     "text": [
      "90th Percentile Sentence of body: 683.0\n"
     ]
    }
   ],
   "source": [
    "print('90th Percentile Sentence of body:', np.percentile([len(seq) for seq in word_seq_bodies_train], 90))"
   ]
  },
  {
   "cell_type": "code",
   "execution_count": 17,
   "metadata": {},
   "outputs": [],
   "source": [
    "word_seq = []\n",
    "for i in range(len(word_seq_head_train)):\n",
    "    word_seq.append(word_seq_head_train[i])\n",
    "for i in range(len(word_seq_bodies_train)):\n",
    "    word_seq.append(word_seq_bodies_train[i])\n"
   ]
  },
  {
   "cell_type": "code",
   "execution_count": 18,
   "metadata": {},
   "outputs": [
    {
     "name": "stdout",
     "output_type": "stream",
     "text": [
      "Number of words in vocabulary: 27873\n"
     ]
    }
   ],
   "source": [
    "# Use tokenizer API to map each token to a unique integer\n",
    "filter_list = '!\"\\'#$%&()*+,-./:;<=>?@[\\\\]^_`{|}~\\t\\n'\n",
    "\n",
    "tokenizer = Tokenizer(num_words=MAX_VOCAB_SIZE, filters=filter_list)\n",
    "tokenizer.fit_on_texts([seq for seq in word_seq])\n",
    "#because it only includes unique words(tokens)\n",
    "\n",
    "print(\"Number of words in vocabulary:\", len(tokenizer.word_index))"
   ]
  },
  {
   "cell_type": "code",
   "execution_count": 19,
   "metadata": {},
   "outputs": [],
   "source": [
    "# Combine headline and body together\n",
    "word_seq_train = [list(i) for i in word_seq_head_train]\n",
    "for i in range(len(word_seq_head_train)):\n",
    "    word_seq_train[i].extend(word_seq_bodies_train[i]) \n",
    "    \n",
    "word_seq_test = [list(i) for i in word_seq_head_test]\n",
    "for i in range(len(word_seq_head_test)):\n",
    "    word_seq_test[i].extend(word_seq_bodies_test[i])"
   ]
  },
  {
   "cell_type": "code",
   "execution_count": 20,
   "metadata": {},
   "outputs": [
    {
     "data": {
      "text/plain": [
       "49972"
      ]
     },
     "execution_count": 20,
     "metadata": {},
     "output_type": "execute_result"
    }
   ],
   "source": [
    "len(word_seq_train)"
   ]
  },
  {
   "cell_type": "code",
   "execution_count": 21,
   "metadata": {},
   "outputs": [],
   "source": [
    "# Shorten the sentence to a fixed length\n",
    "# Convert the sequence of words to sequnce of indices\n",
    "X_train = tokenizer.texts_to_sequences([' '.join(seq[:MAX_SENT_LEN]) for seq in word_seq_train])\n",
    "X_train = pad_sequences(X_train, maxlen=MAX_SENT_LEN, padding='post', truncating='post')\n",
    "y_train = combine_df_train['Stance']"
   ]
  },
  {
   "cell_type": "code",
   "execution_count": 22,
   "metadata": {},
   "outputs": [
    {
     "data": {
      "text/plain": [
       "(49972,)"
      ]
     },
     "execution_count": 22,
     "metadata": {},
     "output_type": "execute_result"
    }
   ],
   "source": [
    "y_train.shape"
   ]
  },
  {
   "cell_type": "code",
   "execution_count": 23,
   "metadata": {},
   "outputs": [],
   "source": [
    "# Convert the sequence of words to sequnce of indices\n",
    "X_test = tokenizer.texts_to_sequences([' '.join(seq[:MAX_SENT_LEN]) for seq in word_seq_test])\n",
    "X_test = pad_sequences(X_test, maxlen=MAX_SENT_LEN, padding='post', truncating='post')\n",
    "y_test = combine_df_test['Stance']"
   ]
  },
  {
   "cell_type": "code",
   "execution_count": 24,
   "metadata": {},
   "outputs": [
    {
     "data": {
      "text/plain": [
       "(25413,)"
      ]
     },
     "execution_count": 24,
     "metadata": {},
     "output_type": "execute_result"
    }
   ],
   "source": [
    "y_test.shape"
   ]
  },
  {
   "cell_type": "code",
   "execution_count": 25,
   "metadata": {},
   "outputs": [],
   "source": [
    "# Encode class values as integers\n",
    "encoder_train = LabelEncoder()\n",
    "encoder_train.fit(y_train)\n",
    "encoded_train = encoder_train.transform(y_train)\n",
    "# convert integers to dummy variables (i.e. one hot encoded)\n",
    "dummy_y_train = np_utils.to_categorical(encoded_train)"
   ]
  },
  {
   "cell_type": "code",
   "execution_count": 26,
   "metadata": {},
   "outputs": [],
   "source": [
    "X_train, X_valid, y_train, y_valid = train_test_split(X_train, dummy_y_train, random_state=10, test_size=0.1)"
   ]
  },
  {
   "cell_type": "code",
   "execution_count": 27,
   "metadata": {},
   "outputs": [
    {
     "data": {
      "text/plain": [
       "(44974, 4)"
      ]
     },
     "execution_count": 27,
     "metadata": {},
     "output_type": "execute_result"
    }
   ],
   "source": [
    "y_train.shape"
   ]
  },
  {
   "cell_type": "code",
   "execution_count": 28,
   "metadata": {},
   "outputs": [],
   "source": [
    "# Encode class values as integers\n",
    "encoder_test = LabelEncoder()\n",
    "encoder_test.fit(y_test)\n",
    "encoded_test = encoder_test.transform(y_test)\n",
    "# convert integers to dummy variables (i.e. one hot encoded)\n",
    "y_test = np_utils.to_categorical(encoded_test)"
   ]
  },
  {
   "cell_type": "code",
   "execution_count": 29,
   "metadata": {},
   "outputs": [
    {
     "data": {
      "text/plain": [
       "(25413, 4)"
      ]
     },
     "execution_count": 29,
     "metadata": {},
     "output_type": "execute_result"
    }
   ],
   "source": [
    "y_test.shape"
   ]
  },
  {
   "cell_type": "markdown",
   "metadata": {},
   "source": [
    "# build the model\n"
   ]
  },
  {
   "cell_type": "code",
   "execution_count": 30,
   "metadata": {},
   "outputs": [
    {
     "name": "stderr",
     "output_type": "stream",
     "text": [
      "D:\\Anaconda3\\lib\\site-packages\\smart_open\\smart_open_lib.py:398: UserWarning: This function is deprecated, use smart_open.open instead. See the migration notes for details: https://github.com/RaRe-Technologies/smart_open/blob/master/README.rst#migrating-to-the-new-open-function\n",
      "  'See the migration notes for details: %s' % _MIGRATION_NOTES_URL\n"
     ]
    }
   ],
   "source": [
    "# Load GloVe as embedding layer\n",
    "glove_input_file = GloVe_DIR\n",
    "word2vec_output_file = 'glove.50d.txt.word2vec'\n",
    "glove2word2vec(glove_input_file, word2vec_output_file)\n",
    "embeddings = gensim.models.KeyedVectors.load_word2vec_format(word2vec_output_file, binary=False)"
   ]
  },
  {
   "cell_type": "code",
   "execution_count": 32,
   "metadata": {},
   "outputs": [],
   "source": [
    "# Create an embedding matrix containing only the word's in our vocabulary\n",
    "# If the word does not have a pre-trained embedding, then randomly initialize the embedding\n",
    "embeddings_matrix = np.random.uniform(-0.05, 0.05, size=(len(tokenizer.word_index)+1, EMBEDDING_DIM)) # +1 is because the matrix indices start with 0\n",
    "for word, i in tokenizer.word_index.items(): # i=0 is the embedding for the zero padding\n",
    "    try:\n",
    "        embeddings_vector = embeddings[word]\n",
    "    except KeyError:\n",
    "        embeddings_vector = None\n",
    "        #none: if words in sentence don't have pre-trained corresponding embedding, then error occurs\n",
    "\n",
    "    if embeddings_vector is not None:\n",
    "        embeddings_matrix[i] = embeddings_vector\n",
    "        #if pre-trained word embedding exists，then let embeddings_matrix[i] is this embedding\n",
    "        #Wi:the ith row of embeddings_matrix\n",
    "        \n",
    "del embeddings\n",
    "#delete"
   ]
  },
  {
   "cell_type": "code",
   "execution_count": 33,
   "metadata": {},
   "outputs": [
    {
     "name": "stdout",
     "output_type": "stream",
     "text": [
      "WARNING:tensorflow:From D:\\Anaconda3\\lib\\site-packages\\tensorflow\\python\\framework\\op_def_library.py:263: colocate_with (from tensorflow.python.framework.ops) is deprecated and will be removed in a future version.\n",
      "Instructions for updating:\n",
      "Colocations handled automatically by placer.\n",
      "WARNING:tensorflow:From D:\\Anaconda3\\lib\\site-packages\\keras\\backend\\tensorflow_backend.py:3445: calling dropout (from tensorflow.python.ops.nn_ops) with keep_prob is deprecated and will be removed in a future version.\n",
      "Instructions for updating:\n",
      "Please use `rate` instead of `keep_prob`. Rate should be set to `rate = 1 - keep_prob`.\n"
     ]
    }
   ],
   "source": [
    "# Build a sequential model by stacking neural net units \n",
    "model_1 = Sequential()\n",
    "model_1.add(Embedding(input_dim=len(tokenizer.word_index)+1,\n",
    "                          output_dim=EMBEDDING_DIM,\n",
    "                          weights = [embeddings_matrix], trainable=True, name='word_embedding_layer', #False\n",
    "                          mask_zero=True))\n",
    "#mask_zero is to deal with padding problem\n",
    "model_1.add(Bidirectional(LSTM(LSTM_DIM, return_sequences=False, name='Bidrectional_lstm_layer1')))\n",
    "model_1.add(Dropout(rate=0.8, name='dropout_1')) \n",
    "model_1.add(Dense(4, activation='softmax', name='output_layer'))"
   ]
  },
  {
   "cell_type": "markdown",
   "metadata": {},
   "source": [
    "#  The first model we use is Bidirectional LSTM(baseline)\n"
   ]
  },
  {
   "cell_type": "code",
   "execution_count": 34,
   "metadata": {},
   "outputs": [],
   "source": [
    "# compile the model\n",
    "model_1.compile(loss='categorical_crossentropy',\n",
    "              optimizer='adam',\n",
    "              metrics=['accuracy'])"
   ]
  },
  {
   "cell_type": "code",
   "execution_count": 35,
   "metadata": {},
   "outputs": [],
   "source": [
    "# checkpoint the model of each epoch, and save them in the checkpoint folder\n",
    "filepath=\"./checkpoint/Bidirectional_lstm_300Length_40epoch_{epoch:02d}_{val_acc:.4f}.h5\"\n",
    "checkpoint = callbacks.ModelCheckpoint(filepath, \n",
    "                                       monitor='val_acc', \n",
    "                                       verbose=0, \n",
    "                                       save_best_only=True)\n",
    "\n",
    "callbacks_list1 = [checkpoint]"
   ]
  },
  {
   "cell_type": "markdown",
   "metadata": {},
   "source": [
    "#  train model\n"
   ]
  },
  {
   "cell_type": "code",
   "execution_count": 36,
   "metadata": {
    "scrolled": true
   },
   "outputs": [
    {
     "name": "stdout",
     "output_type": "stream",
     "text": [
      "WARNING:tensorflow:From D:\\Anaconda3\\lib\\site-packages\\tensorflow\\python\\ops\\math_ops.py:3066: to_int32 (from tensorflow.python.ops.math_ops) is deprecated and will be removed in a future version.\n",
      "Instructions for updating:\n",
      "Use tf.cast instead.\n",
      "Train on 44974 samples, validate on 4998 samples\n",
      "Epoch 1/40\n",
      "44974/44974 [==============================] - 217s 5ms/step - loss: 0.7858 - acc: 0.7286 - val_loss: 0.6709 - val_acc: 0.7521\n",
      "Epoch 2/40\n",
      "44974/44974 [==============================] - 237s 5ms/step - loss: 0.6152 - acc: 0.7740 - val_loss: 0.5464 - val_acc: 0.7969\n",
      "Epoch 3/40\n",
      "44974/44974 [==============================] - 242s 5ms/step - loss: 0.4746 - acc: 0.8237 - val_loss: 0.4339 - val_acc: 0.8379\n",
      "Epoch 4/40\n",
      "44974/44974 [==============================] - 237s 5ms/step - loss: 0.3917 - acc: 0.8549 - val_loss: 0.3751 - val_acc: 0.8603\n",
      "Epoch 5/40\n",
      "44974/44974 [==============================] - 239s 5ms/step - loss: 0.3358 - acc: 0.8749 - val_loss: 0.3362 - val_acc: 0.8725\n",
      "Epoch 6/40\n",
      "44974/44974 [==============================] - 238s 5ms/step - loss: 0.2879 - acc: 0.8926 - val_loss: 0.3014 - val_acc: 0.8804\n",
      "Epoch 7/40\n",
      "44974/44974 [==============================] - 233s 5ms/step - loss: 0.2462 - acc: 0.9101 - val_loss: 0.2750 - val_acc: 0.8944\n",
      "Epoch 8/40\n",
      "44974/44974 [==============================] - 233s 5ms/step - loss: 0.2131 - acc: 0.9220 - val_loss: 0.2601 - val_acc: 0.9038\n",
      "Epoch 9/40\n",
      "44974/44974 [==============================] - 241s 5ms/step - loss: 0.1803 - acc: 0.9337 - val_loss: 0.2441 - val_acc: 0.9110\n",
      "Epoch 10/40\n",
      "44974/44974 [==============================] - 239s 5ms/step - loss: 0.1617 - acc: 0.9395 - val_loss: 0.2352 - val_acc: 0.9166\n",
      "Epoch 11/40\n",
      "44974/44974 [==============================] - 204s 5ms/step - loss: 0.1377 - acc: 0.9504 - val_loss: 0.2334 - val_acc: 0.9238\n",
      "Epoch 12/40\n",
      "44974/44974 [==============================] - 204s 5ms/step - loss: 0.1251 - acc: 0.9546 - val_loss: 0.2354 - val_acc: 0.9258\n",
      "Epoch 13/40\n",
      "44974/44974 [==============================] - 237s 5ms/step - loss: 0.1069 - acc: 0.9607 - val_loss: 0.2170 - val_acc: 0.9304\n",
      "Epoch 14/40\n",
      "44974/44974 [==============================] - 216s 5ms/step - loss: 0.0986 - acc: 0.9643 - val_loss: 0.2129 - val_acc: 0.9326\n",
      "Epoch 15/40\n",
      "44974/44974 [==============================] - 241s 5ms/step - loss: 0.0879 - acc: 0.9684 - val_loss: 0.1973 - val_acc: 0.9384\n",
      "Epoch 16/40\n",
      "44974/44974 [==============================] - 226s 5ms/step - loss: 0.0819 - acc: 0.9708 - val_loss: 0.2046 - val_acc: 0.9392\n",
      "Epoch 17/40\n",
      "44974/44974 [==============================] - 290s 6ms/step - loss: 0.0746 - acc: 0.9730 - val_loss: 0.2143 - val_acc: 0.9390\n",
      "Epoch 18/40\n",
      "44974/44974 [==============================] - 246s 5ms/step - loss: 0.0720 - acc: 0.9742 - val_loss: 0.2161 - val_acc: 0.9400\n",
      "Epoch 19/40\n",
      "44974/44974 [==============================] - 266s 6ms/step - loss: 0.0638 - acc: 0.9779 - val_loss: 0.2277 - val_acc: 0.9404\n",
      "Epoch 20/40\n",
      "44974/44974 [==============================] - 264s 6ms/step - loss: 0.0579 - acc: 0.9787 - val_loss: 0.2144 - val_acc: 0.9448\n",
      "Epoch 21/40\n",
      "44974/44974 [==============================] - 234s 5ms/step - loss: 0.0590 - acc: 0.9790 - val_loss: 0.2343 - val_acc: 0.9376\n",
      "Epoch 22/40\n",
      "44974/44974 [==============================] - 242s 5ms/step - loss: 0.0494 - acc: 0.9823 - val_loss: 0.2308 - val_acc: 0.9436\n",
      "Epoch 23/40\n",
      "44974/44974 [==============================] - 407s 9ms/step - loss: 0.0496 - acc: 0.9825 - val_loss: 0.2172 - val_acc: 0.9436\n",
      "Epoch 24/40\n",
      "44974/44974 [==============================] - 226s 5ms/step - loss: 0.0427 - acc: 0.9847 - val_loss: 0.2229 - val_acc: 0.9484\n",
      "Epoch 25/40\n",
      "44974/44974 [==============================] - 225s 5ms/step - loss: 0.0443 - acc: 0.9842 - val_loss: 0.2344 - val_acc: 0.9476\n",
      "Epoch 26/40\n",
      "44974/44974 [==============================] - 221s 5ms/step - loss: 0.0493 - acc: 0.9829 - val_loss: 0.2250 - val_acc: 0.9474\n",
      "Epoch 27/40\n",
      "44974/44974 [==============================] - 232s 5ms/step - loss: 0.0378 - acc: 0.9863 - val_loss: 0.2218 - val_acc: 0.9486\n",
      "Epoch 28/40\n",
      "44974/44974 [==============================] - 211s 5ms/step - loss: 0.0400 - acc: 0.9854 - val_loss: 0.2060 - val_acc: 0.9504\n",
      "Epoch 29/40\n",
      "44974/44974 [==============================] - 208s 5ms/step - loss: 0.0381 - acc: 0.9863 - val_loss: 0.2355 - val_acc: 0.9452\n",
      "Epoch 30/40\n",
      "44974/44974 [==============================] - 201s 4ms/step - loss: 0.0387 - acc: 0.9868 - val_loss: 0.2188 - val_acc: 0.9492\n",
      "Epoch 31/40\n",
      "44974/44974 [==============================] - 209s 5ms/step - loss: 0.0325 - acc: 0.9885 - val_loss: 0.2158 - val_acc: 0.9494\n",
      "Epoch 32/40\n",
      "44974/44974 [==============================] - 230s 5ms/step - loss: 0.0317 - acc: 0.9889 - val_loss: 0.2172 - val_acc: 0.9514\n",
      "Epoch 33/40\n",
      "44974/44974 [==============================] - 234s 5ms/step - loss: 0.0282 - acc: 0.9901 - val_loss: 0.2354 - val_acc: 0.9506\n",
      "Epoch 34/40\n",
      "44974/44974 [==============================] - 237s 5ms/step - loss: 0.0303 - acc: 0.9893 - val_loss: 0.2234 - val_acc: 0.9502\n",
      "Epoch 35/40\n",
      "44974/44974 [==============================] - 208s 5ms/step - loss: 0.0290 - acc: 0.9899 - val_loss: 0.2451 - val_acc: 0.9496\n",
      "Epoch 36/40\n",
      "44974/44974 [==============================] - 212s 5ms/step - loss: 0.0323 - acc: 0.9889 - val_loss: 0.2394 - val_acc: 0.9482\n",
      "Epoch 37/40\n",
      "44974/44974 [==============================] - 230s 5ms/step - loss: 0.0359 - acc: 0.9885 - val_loss: 0.2462 - val_acc: 0.9512\n",
      "Epoch 38/40\n",
      "44974/44974 [==============================] - 207s 5ms/step - loss: 0.0236 - acc: 0.9917 - val_loss: 0.2651 - val_acc: 0.9490\n",
      "Epoch 39/40\n",
      "44974/44974 [==============================] - 205s 5ms/step - loss: 0.0290 - acc: 0.9902 - val_loss: 0.2389 - val_acc: 0.9504\n",
      "Epoch 40/40\n",
      "44974/44974 [==============================] - 237s 5ms/step - loss: 0.0205 - acc: 0.9930 - val_loss: 0.2459 - val_acc: 0.9520\n"
     ]
    }
   ],
   "source": [
    "# get the training history of the model in each epoch\n",
    "history_1 = model_1.fit(X_train, y_train,\n",
    "          batch_size=BATCH_SIZE,\n",
    "          epochs=N_EPOCHS,\n",
    "          callbacks=callbacks_list1,\n",
    "          validation_data=(X_valid, y_valid))"
   ]
  },
  {
   "cell_type": "code",
   "execution_count": 52,
   "metadata": {},
   "outputs": [],
   "source": [
    "# it is for save the model training history\n",
    "with open('./history/history(Bidirectional_lstm_300Length_40epoch_training)', 'wb') as f:\n",
    "        pickle.dump(history_1.history, f)"
   ]
  },
  {
   "cell_type": "code",
   "execution_count": 51,
   "metadata": {},
   "outputs": [
    {
     "data": {
      "image/png": "[encoded data removed]",
      "text/plain": [
       "<Figure size 432x288 with 1 Axes>"
      ]
     },
     "metadata": {
      "needs_background": "light"
     },
     "output_type": "display_data"
    }
   ],
   "source": [
    "# open the trainging history of the model in each epoch, and plot the accuracy and loss curve\n",
    "file1 = open('./history/history(Bidirectional_lstm_300Length_40epoch_training)', 'rb')\n",
    "history_1 = pickle.load(file1)\n",
    "file1.close()\n",
    "\n",
    "plt.plot(history_1['acc'])\n",
    "plt.plot(history_1['val_acc'])\n",
    "plt.title('model accuracy(Truncation: 128 Epoch: 40)')\n",
    "plt.ylabel('Accuracy')\n",
    "plt.xlabel('Epoch')\n",
    "plt.legend(['train', 'test'], loc='upper left')\n",
    "plt.show()"
   ]
  },
  {
   "cell_type": "code",
   "execution_count": 52,
   "metadata": {},
   "outputs": [
    {
     "data": {
      "image/png": "[encoded data removed]",
      "text/plain": [
       "<Figure size 432x288 with 1 Axes>"
      ]
     },
     "metadata": {
      "needs_background": "light"
     },
     "output_type": "display_data"
    }
   ],
   "source": [
    "plt.plot(history_1['loss'])\n",
    "plt.plot(history_1['val_loss'])\n",
    "plt.title('model accuracy(Truncation: 128 Epoch: 40)')\n",
    "plt.ylabel('Loss')\n",
    "plt.xlabel('Epoch')\n",
    "plt.legend(['train', 'test'], loc='upper left')\n",
    "plt.show()"
   ]
  },
  {
   "cell_type": "markdown",
   "metadata": {},
   "source": [
    "#  Prediction\n"
   ]
  },
  {
   "cell_type": "code",
   "execution_count": 30,
   "metadata": {},
   "outputs": [
    {
     "name": "stdout",
     "output_type": "stream",
     "text": [
      "WARNING:tensorflow:From D:\\Anaconda3\\lib\\site-packages\\tensorflow\\python\\framework\\op_def_library.py:263: colocate_with (from tensorflow.python.framework.ops) is deprecated and will be removed in a future version.\n",
      "Instructions for updating:\n",
      "Colocations handled automatically by placer.\n",
      "WARNING:tensorflow:From D:\\Anaconda3\\lib\\site-packages\\keras\\backend\\tensorflow_backend.py:3445: calling dropout (from tensorflow.python.ops.nn_ops) with keep_prob is deprecated and will be removed in a future version.\n",
      "Instructions for updating:\n",
      "Please use `rate` instead of `keep_prob`. Rate should be set to `rate = 1 - keep_prob`.\n",
      "WARNING:tensorflow:From D:\\Anaconda3\\lib\\site-packages\\tensorflow\\python\\ops\\math_ops.py:3066: to_int32 (from tensorflow.python.ops.math_ops) is deprecated and will be removed in a future version.\n",
      "Instructions for updating:\n",
      "Use tf.cast instead.\n"
     ]
    }
   ],
   "source": [
    "# load the trained model with the best accuracy\n",
    "from keras import models\n",
    "model_file_path = './checkpoint/Bidirectional_lstm_300Length_40epoch_40_0.9520.h5'\n",
    "model_1 = models.load_model(model_file_path)\n"
   ]
  },
  {
   "cell_type": "code",
   "execution_count": 32,
   "metadata": {},
   "outputs": [],
   "source": [
    "# predict the stance of the competition test\n",
    "prediction = model_1.predict(X_test)\n",
    "preds = [np.argmax(p, axis = -1) for p in prediction]\n",
    "actuals = [np.argmax(p, axis = -1) for p in y_test]"
   ]
  },
  {
   "cell_type": "code",
   "execution_count": 33,
   "metadata": {},
   "outputs": [],
   "source": [
    "for i in range(len(preds)):\n",
    "    if preds[i] == 0: preds[i] = \"unrelated\"\n",
    "    if preds[i] == 1: preds[i] = \"disagree\"\n",
    "    if preds[i] == 2: preds[i] = \"agree\"\n",
    "    if preds[i] == 3: preds[i] = \"discuss\"\n",
    "\n",
    "for i in range(len(actuals)):\n",
    "    if actuals[i] == 0: actuals[i] = \"unrelated\"\n",
    "    if actuals[i] == 1: actuals[i] = \"disagree\"\n",
    "    if actuals[i] == 2: actuals[i] = \"agree\"\n",
    "    if actuals[i] == 3: actuals[i] = \"discuss\""
   ]
  },
  {
   "cell_type": "code",
   "execution_count": 34,
   "metadata": {},
   "outputs": [],
   "source": [
    "stance_list = preds\n",
    "bodyid_list = []\n",
    "headline_list = []"
   ]
  },
  {
   "cell_type": "code",
   "execution_count": 35,
   "metadata": {},
   "outputs": [
    {
     "data": {
      "text/html": [
       "<div>\n",
       "<style scoped>\n",
       "    .dataframe tbody tr th:only-of-type {\n",
       "        vertical-align: middle;\n",
       "    }\n",
       "\n",
       "    .dataframe tbody tr th {\n",
       "        vertical-align: top;\n",
       "    }\n",
       "\n",
       "    .dataframe thead th {\n",
       "        text-align: right;\n",
       "    }\n",
       "</style>\n",
       "<table border=\"1\" class=\"dataframe\">\n",
       "  <thead>\n",
       "    <tr style=\"text-align: right;\">\n",
       "      <th></th>\n",
       "      <th>Headline</th>\n",
       "      <th>Body ID</th>\n",
       "      <th>Stance</th>\n",
       "    </tr>\n",
       "  </thead>\n",
       "  <tbody>\n",
       "    <tr>\n",
       "      <th>0</th>\n",
       "      <td>Ferguson riots: Pregnant woman loses eye after...</td>\n",
       "      <td>2008</td>\n",
       "      <td>unrelated</td>\n",
       "    </tr>\n",
       "    <tr>\n",
       "      <th>1</th>\n",
       "      <td>Crazy Conservatives Are Sure a Gitmo Detainee ...</td>\n",
       "      <td>1550</td>\n",
       "      <td>unrelated</td>\n",
       "    </tr>\n",
       "    <tr>\n",
       "      <th>2</th>\n",
       "      <td>A Russian Guy Says His Justin Bieber Ringtone ...</td>\n",
       "      <td>2</td>\n",
       "      <td>unrelated</td>\n",
       "    </tr>\n",
       "    <tr>\n",
       "      <th>3</th>\n",
       "      <td>Zombie Cat: Buried Kitty Believed Dead, Meows ...</td>\n",
       "      <td>1793</td>\n",
       "      <td>unrelated</td>\n",
       "    </tr>\n",
       "    <tr>\n",
       "      <th>4</th>\n",
       "      <td>Argentina's President Adopts Boy to End Werewo...</td>\n",
       "      <td>37</td>\n",
       "      <td>unrelated</td>\n",
       "    </tr>\n",
       "    <tr>\n",
       "      <th>5</th>\n",
       "      <td>Next-generation Apple iPhones' features leaked</td>\n",
       "      <td>2353</td>\n",
       "      <td>unrelated</td>\n",
       "    </tr>\n",
       "    <tr>\n",
       "      <th>6</th>\n",
       "      <td>Saudi national airline may introduce gender se...</td>\n",
       "      <td>192</td>\n",
       "      <td>unrelated</td>\n",
       "    </tr>\n",
       "    <tr>\n",
       "      <th>7</th>\n",
       "      <td>'Zombie Cat' Claws Way Out Of Grave And Into O...</td>\n",
       "      <td>2482</td>\n",
       "      <td>unrelated</td>\n",
       "    </tr>\n",
       "    <tr>\n",
       "      <th>8</th>\n",
       "      <td>ISIS might be harvesting organs, Iraq tells UN</td>\n",
       "      <td>250</td>\n",
       "      <td>unrelated</td>\n",
       "    </tr>\n",
       "    <tr>\n",
       "      <th>9</th>\n",
       "      <td>Woman has surgery to get third breast: The thr...</td>\n",
       "      <td>85</td>\n",
       "      <td>unrelated</td>\n",
       "    </tr>\n",
       "  </tbody>\n",
       "</table>\n",
       "</div>"
      ],
      "text/plain": [
       "                                            Headline  Body ID     Stance\n",
       "0  Ferguson riots: Pregnant woman loses eye after...     2008  unrelated\n",
       "1  Crazy Conservatives Are Sure a Gitmo Detainee ...     1550  unrelated\n",
       "2  A Russian Guy Says His Justin Bieber Ringtone ...        2  unrelated\n",
       "3  Zombie Cat: Buried Kitty Believed Dead, Meows ...     1793  unrelated\n",
       "4  Argentina's President Adopts Boy to End Werewo...       37  unrelated\n",
       "5     Next-generation Apple iPhones' features leaked     2353  unrelated\n",
       "6  Saudi national airline may introduce gender se...      192  unrelated\n",
       "7  'Zombie Cat' Claws Way Out Of Grave And Into O...     2482  unrelated\n",
       "8     ISIS might be harvesting organs, Iraq tells UN      250  unrelated\n",
       "9  Woman has surgery to get third breast: The thr...       85  unrelated"
      ]
     },
     "execution_count": 35,
     "metadata": {},
     "output_type": "execute_result"
    }
   ],
   "source": [
    "test_df_original_1 = pd.read_csv(DATA_DIR + '/competition_test_stances.csv')\n",
    "test_df_original_1.head(10)"
   ]
  },
  {
   "cell_type": "code",
   "execution_count": 36,
   "metadata": {},
   "outputs": [],
   "source": [
    "# save the result of the prediction for submission\n",
    "for i in range(len(test_df_original_1.Stance)):\n",
    "    bodyid_list.append(test_df_original_1['Body ID'][i])\n",
    "    headline_list.append(test_df_original_1.Headline[i])\n",
    "   \n",
    "df = pd.DataFrame(data={'Headline': headline_list, 'Body ID': bodyid_list, \"Stance\": stance_list})\n",
    "df.to_csv(\"bidirectional_LSTM_submission.csv\")"
   ]
  },
  {
   "cell_type": "code",
   "execution_count": 37,
   "metadata": {},
   "outputs": [
    {
     "name": "stdout",
     "output_type": "stream",
     "text": [
      "25413/25413 [==============================] - 65s 3ms/step\n"
     ]
    }
   ],
   "source": [
    "score, acc = model_1.evaluate(X_test, y_test, batch_size=BATCH_SIZE)"
   ]
  },
  {
   "cell_type": "code",
   "execution_count": 38,
   "metadata": {},
   "outputs": [
    {
     "data": {
      "text/plain": [
       "0.6909062290997426"
      ]
     },
     "execution_count": 38,
     "metadata": {},
     "output_type": "execute_result"
    }
   ],
   "source": [
    "acc"
   ]
  },
  {
   "cell_type": "markdown",
   "metadata": {},
   "source": [
    "# Improve the model, add more layers to bidirectional LSTM, the outcome turns out to be better, but too time consuming. So it is not included in our poster  and final report"
   ]
  },
  {
   "cell_type": "code",
   "execution_count": 80,
   "metadata": {},
   "outputs": [
    {
     "name": "stdout",
     "output_type": "stream",
     "text": [
      "_________________________________________________________________\n",
      "Layer (type)                 Output Shape              Param #   \n",
      "=================================================================\n",
      "word_embedding_layer (Embedd (None, None, 50)          1798950   \n",
      "_________________________________________________________________\n",
      "bidirectional_3 (Bidirection (None, 200)               120800    \n",
      "_________________________________________________________________\n",
      "dropout_1 (Dropout)          (None, 200)               0         \n",
      "_________________________________________________________________\n",
      "activation_1 (Activation)    (None, 200)               0         \n",
      "_________________________________________________________________\n",
      "dropout_2 (Dropout)          (None, 200)               0         \n",
      "_________________________________________________________________\n",
      "activation_2 (Activation)    (None, 200)               0         \n",
      "_________________________________________________________________\n",
      "output_layer (Dense)         (None, 4)                 804       \n",
      "=================================================================\n",
      "Total params: 1,920,554\n",
      "Trainable params: 121,604\n",
      "Non-trainable params: 1,798,950\n",
      "_________________________________________________________________\n"
     ]
    }
   ],
   "source": [
    "model_2 = Sequential()\n",
    "model_2.add(Embedding(input_dim=len(tokenizer.word_index)+1,\n",
    "                          output_dim=EMBEDDING_DIM,\n",
    "                          weights = [embeddings_matrix], trainable=False, name='word_embedding_layer', \n",
    "                          mask_zero=True)) # trainable=True results in overfitting\n",
    "model_2.add(Bidirectional(LSTM(LSTM_DIM, return_sequences=False, name='Bidrectional_lstm_layer1')))\n",
    "\n",
    "model_2.add(Dropout(rate=0.8, name='dropout_1')) # Can try varying dropout rates, in paper suggest 0.2\n",
    "model_2.add(Activation(activation='relu', name='activation_1'))\n",
    "model_2.add(Dropout(rate=0.2, name='dropout_2'))\n",
    "model_2.add(Activation(activation='relu', name='activation_2'))\n",
    "\n",
    "model_2.add(Dense(4, activation='softmax', name='output_layer'))\n",
    "model_2.summary()"
   ]
  },
  {
   "cell_type": "code",
   "execution_count": 81,
   "metadata": {},
   "outputs": [],
   "source": [
    "#CALLBACK FUCTION: TO SAVE MODEL FOR EVERY EPOCH END\n",
    "filepath=\"./checkpoints/FNC-1_BASIC_LSTM_150_{epoch:02d}_{val_acc:.4f}.h5\"\n",
    "checkpoint = callbacks.ModelCheckpoint(filepath, \n",
    "                                       monitor='val_acc', \n",
    "                                       verbose=0, \n",
    "                                       save_best_only=True)\n",
    "\n",
    "callbacks_list = [checkpoint]"
   ]
  },
  {
   "cell_type": "code",
   "execution_count": 83,
   "metadata": {},
   "outputs": [],
   "source": [
    "optimizer = optimizers.Adam(lr=0.001)\n",
    "model_2.compile(loss='categorical_crossentropy',\n",
    "              optimizer=optimizer,\n",
    "              metrics=['accuracy'])"
   ]
  },
  {
   "cell_type": "code",
   "execution_count": 84,
   "metadata": {},
   "outputs": [
    {
     "name": "stdout",
     "output_type": "stream",
     "text": [
      "Train on 44974 samples, validate on 4998 samples\n",
      "Epoch 1/40\n",
      "44974/44974 [==============================] - 212s 5ms/step - loss: 0.8226 - acc: 0.7275 - val_loss: 0.7343 - val_acc: 0.7433\n",
      "Epoch 2/40\n",
      "44974/44974 [==============================] - 224s 5ms/step - loss: 0.7357 - acc: 0.7414 - val_loss: 0.6746 - val_acc: 0.7431\n",
      "Epoch 3/40\n",
      "44974/44974 [==============================] - 221s 5ms/step - loss: 0.6540 - acc: 0.7510 - val_loss: 0.5940 - val_acc: 0.7667\n",
      "Epoch 4/40\n",
      "44974/44974 [==============================] - 241s 5ms/step - loss: 0.5955 - acc: 0.7664 - val_loss: 0.5427 - val_acc: 0.7843\n",
      "Epoch 5/40\n",
      "44974/44974 [==============================] - 230s 5ms/step - loss: 0.5436 - acc: 0.7853 - val_loss: 0.4845 - val_acc: 0.8043\n",
      "Epoch 6/40\n",
      "44974/44974 [==============================] - 210s 5ms/step - loss: 0.4984 - acc: 0.8038 - val_loss: 0.4602 - val_acc: 0.8147\n",
      "Epoch 7/40\n",
      "44974/44974 [==============================] - 209s 5ms/step - loss: 0.4591 - acc: 0.8203 - val_loss: 0.4325 - val_acc: 0.8279\n",
      "Epoch 8/40\n",
      "44974/44974 [==============================] - 210s 5ms/step - loss: 0.4269 - acc: 0.8347 - val_loss: 0.4027 - val_acc: 0.8431\n",
      "Epoch 9/40\n",
      "44974/44974 [==============================] - 213s 5ms/step - loss: 0.3985 - acc: 0.8468 - val_loss: 0.3818 - val_acc: 0.8519\n",
      "Epoch 10/40\n",
      "44974/44974 [==============================] - 218s 5ms/step - loss: 0.3724 - acc: 0.8558 - val_loss: 0.3756 - val_acc: 0.8515\n",
      "Epoch 11/40\n",
      "44974/44974 [==============================] - 208s 5ms/step - loss: 0.3533 - acc: 0.8629 - val_loss: 0.3397 - val_acc: 0.8695\n",
      "Epoch 12/40\n",
      "44974/44974 [==============================] - 219s 5ms/step - loss: 0.3303 - acc: 0.8736 - val_loss: 0.3292 - val_acc: 0.8705\n",
      "Epoch 13/40\n",
      "44974/44974 [==============================] - 222s 5ms/step - loss: 0.3179 - acc: 0.8803 - val_loss: 0.3245 - val_acc: 0.8800\n",
      "Epoch 14/40\n",
      "44974/44974 [==============================] - 210s 5ms/step - loss: 0.2957 - acc: 0.8868 - val_loss: 0.3135 - val_acc: 0.8854\n",
      "Epoch 15/40\n",
      "44974/44974 [==============================] - 218s 5ms/step - loss: 0.2838 - acc: 0.8915 - val_loss: 0.3051 - val_acc: 0.8884\n",
      "Epoch 16/40\n",
      "44974/44974 [==============================] - 219s 5ms/step - loss: 0.2634 - acc: 0.8989 - val_loss: 0.3007 - val_acc: 0.8912\n",
      "Epoch 17/40\n",
      "44974/44974 [==============================] - 220s 5ms/step - loss: 0.2471 - acc: 0.9074 - val_loss: 0.2743 - val_acc: 0.9016\n",
      "Epoch 18/40\n",
      "44974/44974 [==============================] - 201s 4ms/step - loss: 0.2391 - acc: 0.9097 - val_loss: 0.3102 - val_acc: 0.8936\n",
      "Epoch 19/40\n",
      "44974/44974 [==============================] - 238s 5ms/step - loss: 0.2333 - acc: 0.9116 - val_loss: 0.2690 - val_acc: 0.9050\n",
      "Epoch 20/40\n",
      "44974/44974 [==============================] - 230s 5ms/step - loss: 0.2153 - acc: 0.9184 - val_loss: 0.2670 - val_acc: 0.9076\n",
      "Epoch 21/40\n",
      "44974/44974 [==============================] - 226s 5ms/step - loss: 0.2088 - acc: 0.9210 - val_loss: 0.2539 - val_acc: 0.9108\n",
      "Epoch 22/40\n",
      "44974/44974 [==============================] - 270s 6ms/step - loss: 0.2026 - acc: 0.9229 - val_loss: 0.2572 - val_acc: 0.9152\n",
      "Epoch 23/40\n",
      "44974/44974 [==============================] - 697s 15ms/step - loss: 0.1940 - acc: 0.9270 - val_loss: 0.2621 - val_acc: 0.9168\n",
      "Epoch 24/40\n",
      "44974/44974 [==============================] - 682s 15ms/step - loss: 0.1919 - acc: 0.9287 - val_loss: 0.2547 - val_acc: 0.9134\n",
      "Epoch 25/40\n",
      "44974/44974 [==============================] - 689s 15ms/step - loss: 0.1817 - acc: 0.9324 - val_loss: 0.2576 - val_acc: 0.9186\n",
      "Epoch 26/40\n",
      "44974/44974 [==============================] - 690s 15ms/step - loss: 0.1861 - acc: 0.9314 - val_loss: 0.2462 - val_acc: 0.9196\n",
      "Epoch 27/40\n",
      "44974/44974 [==============================] - 688s 15ms/step - loss: 0.1760 - acc: 0.9335 - val_loss: 0.2398 - val_acc: 0.9208\n",
      "Epoch 28/40\n",
      "44974/44974 [==============================] - 446s 10ms/step - loss: 0.1723 - acc: 0.9349 - val_loss: 0.2441 - val_acc: 0.9222\n",
      "Epoch 29/40\n",
      "44974/44974 [==============================] - 324s 7ms/step - loss: 0.1669 - acc: 0.9378 - val_loss: 0.2333 - val_acc: 0.9214\n",
      "Epoch 30/40\n",
      "44974/44974 [==============================] - 360s 8ms/step - loss: 0.1604 - acc: 0.9396 - val_loss: 0.2539 - val_acc: 0.9178\n",
      "Epoch 31/40\n",
      "44974/44974 [==============================] - 740s 16ms/step - loss: 0.1805 - acc: 0.9334 - val_loss: 0.2475 - val_acc: 0.9226\n",
      "Epoch 32/40\n",
      "44974/44974 [==============================] - 898s 20ms/step - loss: 0.1597 - acc: 0.9419 - val_loss: 0.2565 - val_acc: 0.9164\n",
      "Epoch 33/40\n",
      "44974/44974 [==============================] - 406s 9ms/step - loss: 0.1553 - acc: 0.9429 - val_loss: 0.2307 - val_acc: 0.9262\n",
      "Epoch 34/40\n",
      "44974/44974 [==============================] - 203s 5ms/step - loss: 0.1477 - acc: 0.9452 - val_loss: 0.2356 - val_acc: 0.9276\n",
      "Epoch 35/40\n",
      "44974/44974 [==============================] - 203s 5ms/step - loss: 0.1475 - acc: 0.9441 - val_loss: 0.2491 - val_acc: 0.9226\n",
      "Epoch 36/40\n",
      "44974/44974 [==============================] - 205s 5ms/step - loss: 0.1445 - acc: 0.9470 - val_loss: 0.2470 - val_acc: 0.9264\n",
      "Epoch 37/40\n",
      "44974/44974 [==============================] - 202s 4ms/step - loss: 0.1412 - acc: 0.9480 - val_loss: 0.2343 - val_acc: 0.9266\n",
      "Epoch 38/40\n",
      "44974/44974 [==============================] - 207s 5ms/step - loss: 0.1383 - acc: 0.9485 - val_loss: 0.2234 - val_acc: 0.9310\n",
      "Epoch 39/40\n",
      "44974/44974 [==============================] - 206s 5ms/step - loss: 0.1355 - acc: 0.9495 - val_loss: 0.2380 - val_acc: 0.9236\n",
      "Epoch 40/40\n",
      "44974/44974 [==============================] - 205s 5ms/step - loss: 0.1395 - acc: 0.9484 - val_loss: 0.2370 - val_acc: 0.9284\n"
     ]
    }
   ],
   "source": [
    "history_2 = model_2.fit(X_train, y_train,\n",
    "          batch_size=BATCH_SIZE,\n",
    "          epochs=N_EPOCHS,\n",
    "          validation_data=(X_valid, y_valid)\n",
    "         )\n"
   ]
  },
  {
   "cell_type": "code",
   "execution_count": 85,
   "metadata": {},
   "outputs": [
    {
     "data": {
      "image/png": "[encoded data removed]",
      "text/plain": [
       "<Figure size 432x288 with 1 Axes>"
      ]
     },
     "metadata": {
      "needs_background": "light"
     },
     "output_type": "display_data"
    }
   ],
   "source": [
    "plt.plot(history_2.history['acc'])\n",
    "plt.plot(history_2.history['val_acc'])\n",
    "plt.title('model accuracy(Truncation: 150 Epoch: 10)')\n",
    "plt.ylabel('Accuracy')\n",
    "plt.xlabel('Epoch')\n",
    "plt.legend(['train', 'test'], loc='upper left')\n",
    "plt.show()"
   ]
  },
  {
   "cell_type": "markdown",
   "metadata": {},
   "source": [
    "# Prediction for improved bidirectional LSTM\n"
   ]
  },
  {
   "cell_type": "code",
   "execution_count": 86,
   "metadata": {},
   "outputs": [
    {
     "name": "stdout",
     "output_type": "stream",
     "text": [
      "25413/25413 [==============================] - 58s 2ms/step\n"
     ]
    },
    {
     "data": {
      "text/plain": [
       "0.7145948923708805"
      ]
     },
     "execution_count": 86,
     "metadata": {},
     "output_type": "execute_result"
    }
   ],
   "source": [
    "score, acc = model_2.evaluate(X_test, y_test, batch_size=BATCH_SIZE)\n",
    "acc"
   ]
  },
  {
   "cell_type": "markdown",
   "metadata": {},
   "source": [
    "# Bidirectional LSTM + Attention(Our second model)"
   ]
  },
  {
   "cell_type": "code",
   "execution_count": 41,
   "metadata": {},
   "outputs": [],
   "source": [
    "#only attend first 15 states\n",
    "class Attention(Layer):\n",
    "    def __init__(self, attention_length = 20 ,\n",
    "                 W_regularizer=None, b_regularizer=None,\n",
    "                 W_constraint=None, b_constraint=None,\n",
    "                  **kwargs):\n",
    "\n",
    "        #self.supports_masking = True\n",
    "        #Xavier uniform initializer\n",
    "        self.init = initializers.get('glorot_uniform')\n",
    "\n",
    "        self.W_regularizer = regularizers.get(W_regularizer)\n",
    "\n",
    "        self.W_constraint = constraints.get(W_constraint)\n",
    "\n",
    "        self.attention_length = 30\n",
    "        self.features_dim = 100 \n",
    "        super(Attention, self).__init__(**kwargs)\n",
    "\n",
    "    def build(self, input_shape):\n",
    "        assert len(input_shape) == 3\n",
    "        \n",
    "        \n",
    "        self.Wy = self.add_weight((self.features_dim,self.features_dim),\n",
    "                                 initializer=self.init,\n",
    "                                 name='{}_Wy'.format(self.name),\n",
    "                                 regularizer=self.W_regularizer,\n",
    "                                 constraint=self.W_constraint)\n",
    "        \n",
    "\n",
    "        \n",
    "        self.Wh = self.add_weight((self.features_dim,self.features_dim),\n",
    "                                     initializer=self.init,\n",
    "                                     name='{}_Wh'.format(self.name),\n",
    "                                     regularizer=self.W_regularizer,\n",
    "                                     constraint=self.W_constraint)\n",
    "\n",
    "        self.w = self.add_weight((self.features_dim,1),\n",
    "                                     initializer=self.init,\n",
    "                                     name='{}_x'.format(self.name),\n",
    "                                     regularizer=self.W_regularizer,\n",
    "                                     constraint=self.W_constraint)\n",
    "\n",
    "        self.Wp = self.add_weight((self.features_dim,self.features_dim),\n",
    "                                     initializer=self.init,\n",
    "                                     name='{}_Wp'.format(self.name),\n",
    "                                     regularizer=self.W_regularizer,\n",
    "                                     constraint=self.W_constraint)\n",
    "        \n",
    "        self.Wx = self.add_weight((self.features_dim,self.features_dim),\n",
    "                                     initializer=self.init,\n",
    "                                     name='{}_Wx'.format(self.name),\n",
    "                                     regularizer=self.W_regularizer,\n",
    "                                     constraint=self.W_constraint)\n",
    "\n",
    "        self.built = True\n",
    "\n",
    "    def compute_mask(self, input, input_mask=None):\n",
    "        # do not pass the mask to the next layers\n",
    "        return None\n",
    "\n",
    "    def call(self, x, mask=None):\n",
    "        \n",
    "        Y_states = tf.slice(x, begin = [0, 0, 0], size = [-1, self.attention_length, -1]) #15 first states\n",
    "        h_state = x[:,-1,:]\n",
    "        print (\"h_state\",h_state.shape)\n",
    "        #print (\"wh\", self.Wh.shape)\n",
    "        features_dim = self.features_dim\n",
    "\n",
    "        M1 = K.reshape(K.dot(K.reshape(Y_states, (-1, features_dim)), self.Wy),shape = (-1,self.attention_length,features_dim ))\n",
    "        #print(\"here\")\n",
    "        M2 = K.expand_dims(K.dot(h_state, self.Wh),axis=1)\n",
    "        M = K.tanh(M1+M2)\n",
    "        #print(\"here2\")\n",
    "        alpha = K.reshape(K.softmax(K.dot(K.reshape(M, shape = (-1, features_dim)), self.w)), shape = (-1, self.attention_length))\n",
    "        r = tf.squeeze(tf.matmul(tf.transpose(tf.expand_dims(alpha, 2), perm = [0, 2, 1]), Y_states))\n",
    "        h_star = tf.tanh(tf.matmul(r, self.Wp) + tf.matmul(h_state, self.Wx))\n",
    "        \n",
    "\n",
    "        return h_star\n",
    "\n",
    "    def compute_output_shape(self, input_shape):\n",
    "        #return input_shape[0], input_shape[-1]\n",
    "        return input_shape[0],  self.features_dim"
   ]
  },
  {
   "cell_type": "code",
   "execution_count": 80,
   "metadata": {},
   "outputs": [
    {
     "name": "stdout",
     "output_type": "stream",
     "text": [
      "h_state (?, 100)\n",
      "_________________________________________________________________\n",
      "Layer (type)                 Output Shape              Param #   \n",
      "=================================================================\n",
      "word_embedding_layer (Embedd (None, 128, 50)           1393700   \n",
      "_________________________________________________________________\n",
      "lstm_layer1 (LSTM)           (None, 128, 100)          60400     \n",
      "_________________________________________________________________\n",
      "dropout_1 (Dropout)          (None, 128, 100)          0         \n",
      "_________________________________________________________________\n",
      "attention_4 (Attention)      (None, 100)               40100     \n",
      "_________________________________________________________________\n",
      "output_layer (Dense)         (None, 4)                 404       \n",
      "=================================================================\n",
      "Total params: 1,494,604\n",
      "Trainable params: 1,494,604\n",
      "Non-trainable params: 0\n",
      "_________________________________________________________________\n"
     ]
    }
   ],
   "source": [
    "model_2 = Sequential()\n",
    "model_2.add(Embedding(input_dim=len(tokenizer.word_index)+1, input_length =MAX_SENT_LEN,\n",
    "                          output_dim=EMBEDDING_DIM,\n",
    "                          weights = [embeddings_matrix], trainable= True, name='word_embedding_layer', \n",
    "                          mask_zero=True)) # trainable=True results in overfitting\n",
    "\n",
    "model_2.add(Bidirectional(LSTM(LSTM_DIM, return_sequences=False, name='Bidrectional_lstm_layer1')))\n",
    "\n",
    "model_2.add(Dropout(rate=0.8, name='dropout_1')) # Can try varying dropout rates, in paper suggest 0.2\n",
    "\n",
    "model_2.add(Attention())\n",
    "\n",
    "model_2.add(Dense(4, activation='softmax', name='output_layer'))\n",
    "model_2.summary()"
   ]
  },
  {
   "cell_type": "code",
   "execution_count": 81,
   "metadata": {},
   "outputs": [],
   "source": [
    "optimizer = optimizers.Adam(lr=0.001) \n",
    "\n",
    "model_2.compile(loss='categorical_crossentropy',\n",
    "              optimizer=optimizer,\n",
    "              metrics=['accuracy'])"
   ]
  },
  {
   "cell_type": "code",
   "execution_count": 82,
   "metadata": {},
   "outputs": [],
   "source": [
    "# save 4 history.keys of each epoch, though some epoch maybe omitted\n",
    "filepath=\"./checkpoint/LSTM_with_attention_128Length_40Epoch_{epoch:02d}_{val_acc:.4f}.h5\"\n",
    "checkpoint = callbacks.ModelCheckpoint(filepath, \n",
    "                                       monitor='val_acc', \n",
    "                                       verbose=0, \n",
    "                                       save_best_only=True)\n",
    "\n",
    "callbacks_list2 = [checkpoint]"
   ]
  },
  {
   "cell_type": "code",
   "execution_count": 83,
   "metadata": {},
   "outputs": [
    {
     "name": "stdout",
     "output_type": "stream",
     "text": [
      "Train on 44974 samples, validate on 4998 samples\n",
      "Epoch 1/40\n",
      "44974/44974 [==============================] - 150s 3ms/step - loss: 0.7505 - acc: 0.7383 - val_loss: 0.6703 - val_acc: 0.7599\n",
      "Epoch 2/40\n",
      "44974/44974 [==============================] - 145s 3ms/step - loss: 0.6098 - acc: 0.7775 - val_loss: 0.5445 - val_acc: 0.7989\n",
      "Epoch 3/40\n",
      "44974/44974 [==============================] - 154s 3ms/step - loss: 0.4886 - acc: 0.8191 - val_loss: 0.4377 - val_acc: 0.8377\n",
      "Epoch 4/40\n",
      "44974/44974 [==============================] - 157s 3ms/step - loss: 0.4158 - acc: 0.8456 - val_loss: 0.3877 - val_acc: 0.8579\n",
      "Epoch 5/40\n",
      "44974/44974 [==============================] - 155s 3ms/step - loss: 0.3553 - acc: 0.8674 - val_loss: 0.3467 - val_acc: 0.8721\n",
      "Epoch 6/40\n",
      "44974/44974 [==============================] - 158s 4ms/step - loss: 0.3119 - acc: 0.8835 - val_loss: 0.3231 - val_acc: 0.8780\n",
      "Epoch 7/40\n",
      "44974/44974 [==============================] - 142s 3ms/step - loss: 0.2790 - acc: 0.8959 - val_loss: 0.3094 - val_acc: 0.8842\n",
      "Epoch 8/40\n",
      "44974/44974 [==============================] - 144s 3ms/step - loss: 0.2565 - acc: 0.9023 - val_loss: 0.2827 - val_acc: 0.8952\n",
      "Epoch 9/40\n",
      "44974/44974 [==============================] - 143s 3ms/step - loss: 0.2312 - acc: 0.9134 - val_loss: 0.2683 - val_acc: 0.9024\n",
      "Epoch 10/40\n",
      "44974/44974 [==============================] - 158s 4ms/step - loss: 0.2144 - acc: 0.9195 - val_loss: 0.2544 - val_acc: 0.9056\n",
      "Epoch 11/40\n",
      "44974/44974 [==============================] - 164s 4ms/step - loss: 0.1964 - acc: 0.9256 - val_loss: 0.2357 - val_acc: 0.9176\n",
      "Epoch 12/40\n",
      "44974/44974 [==============================] - 150s 3ms/step - loss: 0.1822 - acc: 0.9309 - val_loss: 0.2495 - val_acc: 0.9140\n",
      "Epoch 13/40\n",
      "44974/44974 [==============================] - 141s 3ms/step - loss: 0.1734 - acc: 0.9347 - val_loss: 0.2399 - val_acc: 0.9144\n",
      "Epoch 14/40\n",
      "44974/44974 [==============================] - 140s 3ms/step - loss: 0.1590 - acc: 0.9399 - val_loss: 0.2237 - val_acc: 0.9196\n",
      "Epoch 15/40\n",
      "44974/44974 [==============================] - 135s 3ms/step - loss: 0.1501 - acc: 0.9428 - val_loss: 0.2213 - val_acc: 0.9230\n",
      "Epoch 16/40\n",
      "44974/44974 [==============================] - 147s 3ms/step - loss: 0.1403 - acc: 0.9472 - val_loss: 0.2074 - val_acc: 0.9262\n",
      "Epoch 17/40\n",
      "44974/44974 [==============================] - 170s 4ms/step - loss: 0.1308 - acc: 0.9494 - val_loss: 0.2325 - val_acc: 0.9228\n",
      "Epoch 18/40\n",
      "44974/44974 [==============================] - 179s 4ms/step - loss: 0.1249 - acc: 0.9534 - val_loss: 0.2176 - val_acc: 0.9274\n",
      "Epoch 19/40\n",
      "44974/44974 [==============================] - 193s 4ms/step - loss: 0.1174 - acc: 0.9562 - val_loss: 0.2256 - val_acc: 0.9252\n",
      "Epoch 20/40\n",
      "44974/44974 [==============================] - 225s 5ms/step - loss: 0.1122 - acc: 0.9576 - val_loss: 0.2098 - val_acc: 0.9320\n",
      "Epoch 21/40\n",
      "44974/44974 [==============================] - 255s 6ms/step - loss: 0.1053 - acc: 0.9606 - val_loss: 0.2054 - val_acc: 0.9354\n",
      "Epoch 22/40\n",
      "44974/44974 [==============================] - 254s 6ms/step - loss: 0.1042 - acc: 0.9612 - val_loss: 0.2235 - val_acc: 0.9322\n",
      "Epoch 23/40\n",
      "44974/44974 [==============================] - 262s 6ms/step - loss: 0.0983 - acc: 0.9638 - val_loss: 0.2170 - val_acc: 0.9324\n",
      "Epoch 24/40\n",
      "44974/44974 [==============================] - 262s 6ms/step - loss: 0.0925 - acc: 0.9658 - val_loss: 0.2070 - val_acc: 0.9352\n",
      "Epoch 25/40\n",
      "44974/44974 [==============================] - 263s 6ms/step - loss: 0.0892 - acc: 0.9673 - val_loss: 0.2081 - val_acc: 0.9368\n",
      "Epoch 26/40\n",
      "44974/44974 [==============================] - 265s 6ms/step - loss: 0.0875 - acc: 0.9682 - val_loss: 0.2113 - val_acc: 0.9386\n",
      "Epoch 27/40\n",
      "44974/44974 [==============================] - 228s 5ms/step - loss: 0.0795 - acc: 0.9713 - val_loss: 0.2094 - val_acc: 0.9380\n",
      "Epoch 28/40\n",
      "44974/44974 [==============================] - 168s 4ms/step - loss: 0.0769 - acc: 0.9719 - val_loss: 0.1994 - val_acc: 0.9418\n",
      "Epoch 29/40\n",
      "44974/44974 [==============================] - 155s 3ms/step - loss: 0.0736 - acc: 0.9734 - val_loss: 0.2063 - val_acc: 0.9394\n",
      "Epoch 30/40\n",
      "44974/44974 [==============================] - 154s 3ms/step - loss: 0.0724 - acc: 0.9741 - val_loss: 0.2122 - val_acc: 0.9414\n",
      "Epoch 31/40\n",
      "44974/44974 [==============================] - 197s 4ms/step - loss: 0.0684 - acc: 0.9755 - val_loss: 0.2218 - val_acc: 0.9366\n",
      "Epoch 32/40\n",
      "44974/44974 [==============================] - 173s 4ms/step - loss: 0.0675 - acc: 0.9757 - val_loss: 0.2024 - val_acc: 0.9418\n",
      "Epoch 33/40\n",
      "44974/44974 [==============================] - 159s 4ms/step - loss: 0.0626 - acc: 0.9773 - val_loss: 0.2171 - val_acc: 0.9428\n",
      "Epoch 34/40\n",
      "44974/44974 [==============================] - 161s 4ms/step - loss: 0.0612 - acc: 0.9779 - val_loss: 0.2135 - val_acc: 0.9410\n",
      "Epoch 35/40\n",
      "44974/44974 [==============================] - 163s 4ms/step - loss: 0.0590 - acc: 0.9789 - val_loss: 0.2230 - val_acc: 0.9410\n",
      "Epoch 36/40\n",
      "44974/44974 [==============================] - 168s 4ms/step - loss: 0.0553 - acc: 0.9795 - val_loss: 0.2181 - val_acc: 0.9420\n",
      "Epoch 37/40\n",
      "44974/44974 [==============================] - 174s 4ms/step - loss: 0.0536 - acc: 0.9811 - val_loss: 0.2314 - val_acc: 0.9462\n",
      "Epoch 38/40\n",
      "44974/44974 [==============================] - 177s 4ms/step - loss: 0.0547 - acc: 0.9807 - val_loss: 0.2458 - val_acc: 0.9390\n",
      "Epoch 39/40\n",
      "44974/44974 [==============================] - 176s 4ms/step - loss: 0.0537 - acc: 0.9809 - val_loss: 0.2060 - val_acc: 0.9486\n",
      "Epoch 40/40\n",
      "44974/44974 [==============================] - 177s 4ms/step - loss: 0.0501 - acc: 0.9818 - val_loss: 0.2258 - val_acc: 0.9450\n"
     ]
    }
   ],
   "source": [
    "history_2 = model_2.fit(X_train, y_train,\n",
    "          batch_size=BATCH_SIZE,\n",
    "          epochs=N_EPOCHS,\n",
    "          validation_data=(X_valid, y_valid),\n",
    "          callbacks = callbacks_list2)"
   ]
  },
  {
   "cell_type": "code",
   "execution_count": 84,
   "metadata": {},
   "outputs": [],
   "source": [
    "# it is for saving the model training history\n",
    "with open('./history/history(LSTM_with_attention_128Length_40Epoch_training)', 'wb') as f:\n",
    "        pickle.dump(history_2.history, f)"
   ]
  },
  {
   "cell_type": "code",
   "execution_count": 66,
   "metadata": {},
   "outputs": [
    {
     "data": {
      "image/png": "[encoded data removed]",
      "text/plain": [
       "<Figure size 432x288 with 1 Axes>"
      ]
     },
     "metadata": {
      "needs_background": "light"
     },
     "output_type": "display_data"
    }
   ],
   "source": [
    "# plot the accuracy and loss of the bidirectional LSTM + attention\n",
    "plt.plot(history_2.history['acc'])\n",
    "plt.plot(history_2.history['val_acc'])\n",
    "plt.title('model accuracy(Truncation: 128 Epoch: 40)')\n",
    "plt.ylabel('Accuracy')\n",
    "plt.xlabel('Epoch')\n",
    "plt.legend(['train', 'test'], loc='upper left')\n",
    "plt.show()"
   ]
  },
  {
   "cell_type": "code",
   "execution_count": 68,
   "metadata": {},
   "outputs": [
    {
     "data": {
      "image/png": "[encoded data removed]",
      "text/plain": [
       "<Figure size 432x288 with 1 Axes>"
      ]
     },
     "metadata": {
      "needs_background": "light"
     },
     "output_type": "display_data"
    }
   ],
   "source": [
    "plt.plot(history_2.history['loss'])\n",
    "plt.plot(history_2.history['val_loss'])\n",
    "plt.title('Model loss')\n",
    "plt.ylabel('Loss')\n",
    "plt.xlabel('Epoch')\n",
    "plt.legend(['Train', 'Test'], loc='upper left')\n",
    "plt.show()"
   ]
  },
  {
   "cell_type": "markdown",
   "metadata": {},
   "source": [
    "# Prediction for LSTM with attention"
   ]
  },
  {
   "cell_type": "code",
   "execution_count": 42,
   "metadata": {},
   "outputs": [
    {
     "name": "stdout",
     "output_type": "stream",
     "text": [
      "h_state (?, 100)\n"
     ]
    }
   ],
   "source": [
    "# Load the best model with best accuracy from checkpoint folder\n",
    "from keras import models\n",
    "model_file_path = './checkpoint/LSTM_with_attention_128Length_40Epoch_lr=0.001_39_0.9478.h5'\n",
    "model_2 = models.load_model(model_file_path,custom_objects = {'Attention': Attention()})"
   ]
  },
  {
   "cell_type": "code",
   "execution_count": 43,
   "metadata": {},
   "outputs": [],
   "source": [
    "prediction = model_2.predict(X_test)\n",
    "preds = [np.argmax(p, axis = -1) for p in prediction]\n",
    "actuals = [np.argmax(p, axis = -1) for p in y_test]"
   ]
  },
  {
   "cell_type": "code",
   "execution_count": 44,
   "metadata": {},
   "outputs": [],
   "source": [
    "for i in range(len(preds)):\n",
    "    if preds[i] == 0: preds[i] = \"unrelated\"\n",
    "    if preds[i] == 1: preds[i] = \"disagree\"\n",
    "    if preds[i] == 2: preds[i] = \"agree\"\n",
    "    if preds[i] == 3: preds[i] = \"discuss\"\n",
    "\n",
    "for i in range(len(actuals)):\n",
    "    if actuals[i] == 0: actuals[i] = \"unrelated\"\n",
    "    if actuals[i] == 1: actuals[i] = \"disagree\"\n",
    "    if actuals[i] == 2: actuals[i] = \"agree\"\n",
    "    if actuals[i] == 3: actuals[i] = \"discuss\""
   ]
  },
  {
   "cell_type": "code",
   "execution_count": 45,
   "metadata": {},
   "outputs": [],
   "source": [
    "stance_list = preds\n",
    "bodyid_list = []\n",
    "headline_list = []"
   ]
  },
  {
   "cell_type": "code",
   "execution_count": 46,
   "metadata": {},
   "outputs": [],
   "source": [
    "test_df_original_2 = pd.read_csv(DATA_DIR + '/competition_test_stances.csv')\n"
   ]
  },
  {
   "cell_type": "code",
   "execution_count": 47,
   "metadata": {},
   "outputs": [],
   "source": [
    "# save the result for final submission\n",
    "for i in range(len(test_df_original_2.Stance)):\n",
    "    bodyid_list.append(test_df_original_2['Body ID'][i])\n",
    "    headline_list.append(test_df_original_2.Headline[i])\n",
    "   \n",
    "df = pd.DataFrame(data={'Headline': headline_list, 'Body ID': bodyid_list, \"Stance\": stance_list})\n",
    "df.to_csv(\"bidirectional_LSTM_attention_submission.csv\")"
   ]
  },
  {
   "cell_type": "code",
   "execution_count": 48,
   "metadata": {},
   "outputs": [
    {
     "name": "stdout",
     "output_type": "stream",
     "text": [
      "25413/25413 [==============================] - 36s 1ms/step\n"
     ]
    },
    {
     "data": {
      "text/plain": [
       "0.7057805060352316"
      ]
     },
     "execution_count": 48,
     "metadata": {},
     "output_type": "execute_result"
    }
   ],
   "source": [
    "score, acc = model_2.evaluate(X_test, y_test, batch_size=BATCH_SIZE)\n",
    "acc"
   ]
  }
 ],
 "metadata": {
  "kernelspec": {
   "display_name": "Python 3",
   "language": "python",
   "name": "python3"
  },
  "language_info": {
   "codemirror_mode": {
    "name": "ipython",
    "version": 3
   },
   "file_extension": ".py",
   "mimetype": "text/x-python",
   "name": "python",
   "nbconvert_exporter": "python",
   "pygments_lexer": "ipython3",
   "version": "3.7.1"
  }
 },
 "nbformat": 4,
 "nbformat_minor": 2
}
